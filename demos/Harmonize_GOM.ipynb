{
 "cells": [
  {
   "cell_type": "markdown",
   "metadata": {},
   "source": [
    "## Standardize, clean and wrangle Water Quality Portal data in Gulf of Mexico Estuaries into more analytic-ready formats using the harmonize_wq package. "
   ]
  },
  {
   "cell_type": "markdown",
   "metadata": {},
   "source": [
    "This demo can be run one estuary at a time, or on all GOM estuaturies (SLOW!), but goes into less detail than the other demo notebooks."
   ]
  },
  {
   "cell_type": "markdown",
   "metadata": {},
   "source": [
    "Import the required libraries"
   ]
  },
  {
   "cell_type": "code",
   "execution_count": 1,
   "metadata": {},
   "outputs": [
    {
     "name": "stdout",
     "output_type": "stream",
     "text": [
      "Collecting git+https://github.com/USEPA/harmonize-wq.git\n",
      "  Cloning https://github.com/USEPA/harmonize-wq.git to c:\\users\\jbousqui\\appdata\\local\\temp\\pip-req-build-sy8sg_xs\n",
      "  Resolved https://github.com/USEPA/harmonize-wq.git to commit 5d0e426f9388bc75fa395d2b7475363979d6c2db\n",
      "  Installing build dependencies: started\n",
      "  Installing build dependencies: finished with status 'done'\n",
      "  Getting requirements to build wheel: started\n",
      "  Getting requirements to build wheel: finished with status 'done'\n",
      "  Installing backend dependencies: started\n",
      "  Installing backend dependencies: finished with status 'done'\n",
      "  Preparing metadata (pyproject.toml): started\n",
      "  Preparing metadata (pyproject.toml): finished with status 'done'\n",
      "Requirement already satisfied: geopandas in c:\\users\\jbousqui\\local_gis\\python\\miniforge3\\envs\\jupyter-harmonize\\lib\\site-packages (from harmonize-wq==0.3.0) (0.12.2)\n",
      "Requirement already satisfied: pint in c:\\users\\jbousqui\\local_gis\\python\\miniforge3\\envs\\jupyter-harmonize\\lib\\site-packages (from harmonize-wq==0.3.0) (0.21)\n",
      "Requirement already satisfied: dataretrieval in c:\\users\\jbousqui\\local_gis\\python\\miniforge3\\envs\\jupyter-harmonize\\lib\\site-packages (from harmonize-wq==0.3.0) (0.0.0)\n",
      "Requirement already satisfied: requests in c:\\users\\jbousqui\\local_gis\\python\\miniforge3\\envs\\jupyter-harmonize\\lib\\site-packages (from dataretrieval->harmonize-wq==0.3.0) (2.31.0)\n",
      "Requirement already satisfied: pandas in c:\\users\\jbousqui\\local_gis\\python\\miniforge3\\envs\\jupyter-harmonize\\lib\\site-packages (from dataretrieval->harmonize-wq==0.3.0) (1.5.3)\n",
      "Requirement already satisfied: shapely>=1.7 in c:\\users\\jbousqui\\local_gis\\python\\miniforge3\\envs\\jupyter-harmonize\\lib\\site-packages (from geopandas->harmonize-wq==0.3.0) (2.0.1)\n",
      "Requirement already satisfied: fiona>=1.8 in c:\\users\\jbousqui\\local_gis\\python\\miniforge3\\envs\\jupyter-harmonize\\lib\\site-packages (from geopandas->harmonize-wq==0.3.0) (1.9.4)\n",
      "Requirement already satisfied: pyproj>=2.6.1.post1 in c:\\users\\jbousqui\\local_gis\\python\\miniforge3\\envs\\jupyter-harmonize\\lib\\site-packages (from geopandas->harmonize-wq==0.3.0) (3.5.0)\n",
      "Requirement already satisfied: packaging in c:\\users\\jbousqui\\local_gis\\python\\miniforge3\\envs\\jupyter-harmonize\\lib\\site-packages (from geopandas->harmonize-wq==0.3.0) (23.1)\n",
      "Requirement already satisfied: attrs>=19.2.0 in c:\\users\\jbousqui\\local_gis\\python\\miniforge3\\envs\\jupyter-harmonize\\lib\\site-packages (from fiona>=1.8->geopandas->harmonize-wq==0.3.0) (23.1.0)\n",
      "Requirement already satisfied: certifi in c:\\users\\jbousqui\\local_gis\\python\\miniforge3\\envs\\jupyter-harmonize\\lib\\site-packages (from fiona>=1.8->geopandas->harmonize-wq==0.3.0) (2023.7.22)\n",
      "Requirement already satisfied: click~=8.0 in c:\\users\\jbousqui\\local_gis\\python\\miniforge3\\envs\\jupyter-harmonize\\lib\\site-packages (from fiona>=1.8->geopandas->harmonize-wq==0.3.0) (8.1.6)\n",
      "Requirement already satisfied: click-plugins>=1.0 in c:\\users\\jbousqui\\local_gis\\python\\miniforge3\\envs\\jupyter-harmonize\\lib\\site-packages (from fiona>=1.8->geopandas->harmonize-wq==0.3.0) (1.1.1)\n",
      "Requirement already satisfied: cligj>=0.5 in c:\\users\\jbousqui\\local_gis\\python\\miniforge3\\envs\\jupyter-harmonize\\lib\\site-packages (from fiona>=1.8->geopandas->harmonize-wq==0.3.0) (0.7.2)\n",
      "Requirement already satisfied: six in c:\\users\\jbousqui\\local_gis\\python\\miniforge3\\envs\\jupyter-harmonize\\lib\\site-packages (from fiona>=1.8->geopandas->harmonize-wq==0.3.0) (1.16.0)\n",
      "Requirement already satisfied: importlib-metadata in c:\\users\\jbousqui\\local_gis\\python\\miniforge3\\envs\\jupyter-harmonize\\lib\\site-packages (from fiona>=1.8->geopandas->harmonize-wq==0.3.0) (6.8.0)\n",
      "Requirement already satisfied: python-dateutil>=2.8.1 in c:\\users\\jbousqui\\local_gis\\python\\miniforge3\\envs\\jupyter-harmonize\\lib\\site-packages (from pandas->dataretrieval->harmonize-wq==0.3.0) (2.8.2)\n",
      "Requirement already satisfied: pytz>=2020.1 in c:\\users\\jbousqui\\local_gis\\python\\miniforge3\\envs\\jupyter-harmonize\\lib\\site-packages (from pandas->dataretrieval->harmonize-wq==0.3.0) (2023.3)\n",
      "Requirement already satisfied: numpy>=1.20.3 in c:\\users\\jbousqui\\local_gis\\python\\miniforge3\\envs\\jupyter-harmonize\\lib\\site-packages (from pandas->dataretrieval->harmonize-wq==0.3.0) (1.24.4)\n",
      "Requirement already satisfied: charset-normalizer<4,>=2 in c:\\users\\jbousqui\\local_gis\\python\\miniforge3\\envs\\jupyter-harmonize\\lib\\site-packages (from requests->dataretrieval->harmonize-wq==0.3.0) (3.2.0)\n",
      "Requirement already satisfied: idna<4,>=2.5 in c:\\users\\jbousqui\\local_gis\\python\\miniforge3\\envs\\jupyter-harmonize\\lib\\site-packages (from requests->dataretrieval->harmonize-wq==0.3.0) (3.4)\n",
      "Requirement already satisfied: urllib3<3,>=1.21.1 in c:\\users\\jbousqui\\local_gis\\python\\miniforge3\\envs\\jupyter-harmonize\\lib\\site-packages (from requests->dataretrieval->harmonize-wq==0.3.0) (2.0.4)\n",
      "Requirement already satisfied: colorama in c:\\users\\jbousqui\\local_gis\\python\\miniforge3\\envs\\jupyter-harmonize\\lib\\site-packages (from click~=8.0->fiona>=1.8->geopandas->harmonize-wq==0.3.0) (0.4.6)\n",
      "Requirement already satisfied: zipp>=0.5 in c:\\users\\jbousqui\\local_gis\\python\\miniforge3\\envs\\jupyter-harmonize\\lib\\site-packages (from importlib-metadata->fiona>=1.8->geopandas->harmonize-wq==0.3.0) (3.16.2)\n"
     ]
    },
    {
     "name": "stderr",
     "output_type": "stream",
     "text": [
      "  Running command git clone --filter=blob:none --quiet https://github.com/USEPA/harmonize-wq.git 'C:\\Users\\jbousqui\\AppData\\Local\\Temp\\pip-req-build-sy8sg_xs'\n"
     ]
    }
   ],
   "source": [
    "import sys\n",
    "#!python -m pip uninstall harmonize-wq --yes\n",
    "# Use pip to install the package from pypi or the latest from github\n",
    "#!{sys.executable} -m pip install harmonize-wq\n",
    "# For latest dev version\n",
    "!{sys.executable} -m pip install git+https://github.com/USEPA/harmonize-wq.git"
   ]
  },
  {
   "cell_type": "code",
   "execution_count": 2,
   "metadata": {},
   "outputs": [],
   "source": [
    "import os\n",
    "import geopandas\n",
    "import pandas\n",
    "from harmonize_wq import harmonize\n",
    "from harmonize_wq import convert\n",
    "from harmonize_wq import wrangle\n",
    "from harmonize_wq import clean\n",
    "from harmonize_wq import location\n",
    "from harmonize_wq import visualize\n",
    "import dataretrieval.wqp as wqp"
   ]
  },
  {
   "cell_type": "markdown",
   "metadata": {},
   "source": [
    "### Define Gulf of Mexico Estuaries"
   ]
  },
  {
   "cell_type": "code",
   "execution_count": 3,
   "metadata": {},
   "outputs": [],
   "source": [
    "# Read geometry for Area of Interest from geojson file url\n",
    "# NOTE: alternatively you can direct it to a local shapefile\n",
    "aoi_url = r'https://raw.githubusercontent.com/USEPA/harmonize-wq/demo_refresh/harmonize_wq/tests/data/NCCA_dissolved_GOM.geojson'"
   ]
  },
  {
   "cell_type": "code",
   "execution_count": 4,
   "metadata": {},
   "outputs": [
    {
     "data": {
      "text/plain": [
       "<Axes: >"
      ]
     },
     "execution_count": 4,
     "metadata": {},
     "output_type": "execute_result"
    },
    {
     "data": {
      "image/png": "[encoded data removed]",
      "text/plain": [
       "<Figure size 640x480 with 1 Axes>"
      ]
     },
     "metadata": {},
     "output_type": "display_data"
    }
   ],
   "source": [
    "# Plot all the Gulf of Mexico Estuaries (geojson is WGS1984 standard)\n",
    "wrangle.as_gdf(aoi_url).plot()"
   ]
  },
  {
   "cell_type": "markdown",
   "metadata": {
    "jp-MarkdownHeadingCollapsed": true
   },
   "source": [
    "### All Gulf of Mexico Estuaries full extent"
   ]
  },
  {
   "cell_type": "code",
   "execution_count": null,
   "metadata": {},
   "outputs": [],
   "source": [
    "# Build query\n",
    "query = {'characteristicName': ['Phosphorus',\n",
    "                                'Temperature, water',\n",
    "                                'Depth, Secchi disk depth',\n",
    "                                'Dissolved oxygen (DO)',\n",
    "                                'Salinity',\n",
    "                                'pH',\n",
    "                                'Nitrogen',\n",
    "                                'Conductivity',\n",
    "                                'Organic carbon',\n",
    "                                'Chlorophyll a',\n",
    "                                'Turbidity',\n",
    "                                'Sediment',\n",
    "                                'Fecal Coliform',\n",
    "                                'Escherichia coli']}\n",
    "query['bBox'] = wrangle.get_bounding_box(aoi_url)\n",
    "# Set low_memory to false for this large querie\n",
    "query['low_memory'] = False"
   ]
  },
  {
   "cell_type": "code",
   "execution_count": null,
   "metadata": {},
   "outputs": [],
   "source": [
    "query['characteristicName'] = ['Phosphorus',\n",
    "                                'Temperature, water']"
   ]
  },
  {
   "cell_type": "markdown",
   "metadata": {},
   "source": [
    "#### Retrieve data"
   ]
  },
  {
   "cell_type": "markdown",
   "metadata": {},
   "source": [
    "This will be slow"
   ]
  },
  {
   "cell_type": "code",
   "execution_count": null,
   "metadata": {},
   "outputs": [],
   "source": [
    "# Query for results\n",
    "# Note: large quieries like this can take up a lot of RAM and may give a DtypeWarning,\n",
    "# set low_memory=False or provide dataTypes for columns to use less memory. \n",
    "query['dataProfile'] = 'narrowResult'\n",
    "res_narrow, md_narrow = wqp.get_results(**query)"
   ]
  },
  {
   "cell_type": "code",
   "execution_count": null,
   "metadata": {},
   "outputs": [],
   "source": [
    "# Look at initial results (input)\n",
    "df = res_narrow\n",
    "df"
   ]
  },
  {
   "cell_type": "markdown",
   "metadata": {},
   "source": [
    "#### Harmonize data using defaults"
   ]
  },
  {
   "cell_type": "code",
   "execution_count": null,
   "metadata": {},
   "outputs": [],
   "source": [
    "# Harmonize it and look at how it changed (output)\n",
    "# Note: 'ignore' unit dimensionality errors will warn when they are encountered and replace with NaN\n",
    "# Note: depending on the Pint version this may cause a UnitStrippedWarning\n",
    "df_harmonized = harmonize.harmonize_all(df, errors='ignore')\n",
    "df_harmonized"
   ]
  },
  {
   "cell_type": "code",
   "execution_count": null,
   "metadata": {},
   "outputs": [],
   "source": [
    "set(list(df_harmonized['MonitoringLocationIdentifier'].sort_values()))"
   ]
  },
  {
   "cell_type": "code",
   "execution_count": null,
   "metadata": {},
   "outputs": [],
   "source": [
    "# Get harmonized stations clipped to the Area of Interest\n",
    "stations_gdf, stations, site_md = location.get_harmonized_stations(query, aoi=aoi_url)"
   ]
  },
  {
   "cell_type": "code",
   "execution_count": null,
   "metadata": {},
   "outputs": [],
   "source": [
    "# Map number of usable results at each station\n",
    "gdf_count = visualize.map_counts(df_harmonized, stations_gdf)\n",
    "legend_kwds={\"fmt\": \"{:.0f}\", 'bbox_to_anchor':(1, 0.75)}\n",
    "gdf_count.plot(column='cnt', cmap='Blues', legend=True, scheme='quantiles', legend_kwds=legend_kwds)"
   ]
  },
  {
   "cell_type": "code",
   "execution_count": null,
   "metadata": {},
   "outputs": [],
   "source": [
    "# Map average temperature results at each station\n",
    "gdf_temperature = visualize.map_measure(df_harmonized, stations_gdf, 'Temperature')\n",
    "gdf_temperature.plot(column='mean', cmap='OrRd', legend=True)"
   ]
  },
  {
   "cell_type": "markdown",
   "metadata": {},
   "source": [
    "#### Clean additional columns of data"
   ]
  },
  {
   "cell_type": "code",
   "execution_count": null,
   "metadata": {},
   "outputs": [],
   "source": [
    "df_cleaned = clean.datetime(df_harmonized)  # datetime\n",
    "df_cleaned = clean.harmonize_depth(df_cleaned)  # Sample depth"
   ]
  },
  {
   "cell_type": "markdown",
   "metadata": {},
   "source": [
    "### All Gulf of Mexico Estuaries clipped extent (batch)"
   ]
  },
  {
   "cell_type": "markdown",
   "metadata": {},
   "source": [
    "#### Get data using a Loop over estuaries one at time for batch query"
   ]
  },
  {
   "cell_type": "code",
   "execution_count": 5,
   "metadata": {},
   "outputs": [],
   "source": [
    "# Area of Interest\n",
    "aoi_gdf_all = wrangle.as_gdf(aoi_url)"
   ]
  },
  {
   "cell_type": "code",
   "execution_count": 6,
   "metadata": {},
   "outputs": [],
   "source": [
    "# Query\n",
    "query = {'characteristicName': ['Phosphorus',\n",
    "                                'Temperature, water',\n",
    "                                'Depth, Secchi disk depth',\n",
    "                                'Dissolved oxygen (DO)',\n",
    "                                'Salinity',\n",
    "                                'pH',\n",
    "                                'Nitrogen',\n",
    "                                'Conductivity',\n",
    "                                'Organic carbon',\n",
    "                                'Chlorophyll a',\n",
    "                                'Turbidity',\n",
    "                                'Sediment',\n",
    "                                'Fecal Coliform',\n",
    "                                'Escherichia coli']}\n",
    "# Set low_memory to false for this large querie\n",
    "query['low_memory'] = False"
   ]
  },
  {
   "cell_type": "code",
   "execution_count": 9,
   "metadata": {},
   "outputs": [
    {
     "name": "stderr",
     "output_type": "stream",
     "text": [
      "C:\\Users\\jbousqui\\Local_GIS\\Python\\Miniforge3\\envs\\jupyter-harmonize\\lib\\site-packages\\dataretrieval\\wqp.py:83: DtypeWarning: Columns (9,10,13,17,19,20,21,60,70,73) have mixed types. Specify dtype option on import or set low_memory=False.\n",
      "  df = pd.read_csv(StringIO(response.text), delimiter=',')\n",
      "C:\\Users\\jbousqui\\Local_GIS\\Python\\Miniforge3\\envs\\jupyter-harmonize\\lib\\site-packages\\dataretrieval\\wqp.py:83: DtypeWarning: Columns (9,10,13,15,17,19,20,22,31,33,60,64,65,70,71,73) have mixed types. Specify dtype option on import or set low_memory=False.\n",
      "  df = pd.read_csv(StringIO(response.text), delimiter=',')\n",
      "C:\\Users\\jbousqui\\Local_GIS\\Python\\Miniforge3\\envs\\jupyter-harmonize\\lib\\site-packages\\dataretrieval\\wqp.py:83: DtypeWarning: Columns (9,10,13,19,20,22,58,60,61,64,65,71,73) have mixed types. Specify dtype option on import or set low_memory=False.\n",
      "  df = pd.read_csv(StringIO(response.text), delimiter=',')\n",
      "C:\\Users\\jbousqui\\Local_GIS\\Python\\Miniforge3\\envs\\jupyter-harmonize\\lib\\site-packages\\dataretrieval\\wqp.py:83: DtypeWarning: Columns (9,10,13,15,17,19,22,23,28,31,32,33,36,38,58,60,61,64,65,70,71,73) have mixed types. Specify dtype option on import or set low_memory=False.\n",
      "  df = pd.read_csv(StringIO(response.text), delimiter=',')\n",
      "C:\\Users\\jbousqui\\Local_GIS\\Python\\Miniforge3\\envs\\jupyter-harmonize\\lib\\site-packages\\dataretrieval\\wqp.py:83: DtypeWarning: Columns (9,10,12,13,17,28,31,33,58,60,61,64,65,71,73) have mixed types. Specify dtype option on import or set low_memory=False.\n",
      "  df = pd.read_csv(StringIO(response.text), delimiter=',')\n",
      "C:\\Users\\jbousqui\\Local_GIS\\Python\\Miniforge3\\envs\\jupyter-harmonize\\lib\\site-packages\\dataretrieval\\wqp.py:83: DtypeWarning: Columns (9,10,13,15,17,19,22,28,58,61,64,65,71,73) have mixed types. Specify dtype option on import or set low_memory=False.\n",
      "  df = pd.read_csv(StringIO(response.text), delimiter=',')\n",
      "C:\\Users\\jbousqui\\Local_GIS\\Python\\Miniforge3\\envs\\jupyter-harmonize\\lib\\site-packages\\dataretrieval\\wqp.py:83: DtypeWarning: Columns (13,15,17,31,33,70) have mixed types. Specify dtype option on import or set low_memory=False.\n",
      "  df = pd.read_csv(StringIO(response.text), delimiter=',')\n",
      "C:\\Users\\jbousqui\\Local_GIS\\Python\\Miniforge3\\envs\\jupyter-harmonize\\lib\\site-packages\\dataretrieval\\wqp.py:83: DtypeWarning: Columns (10,13,73) have mixed types. Specify dtype option on import or set low_memory=False.\n",
      "  df = pd.read_csv(StringIO(response.text), delimiter=',')\n",
      "C:\\Users\\jbousqui\\Local_GIS\\Python\\Miniforge3\\envs\\jupyter-harmonize\\lib\\site-packages\\dataretrieval\\wqp.py:83: DtypeWarning: Columns (9,10,13,15,17,19,22,23,28,31,33,58,60,61,64,65,70,71,73) have mixed types. Specify dtype option on import or set low_memory=False.\n",
      "  df = pd.read_csv(StringIO(response.text), delimiter=',')\n",
      "C:\\Users\\jbousqui\\Local_GIS\\Python\\Miniforge3\\envs\\jupyter-harmonize\\lib\\site-packages\\dataretrieval\\wqp.py:83: DtypeWarning: Columns (9,10,12,13,15,17,19,20,22,28,31,33,58,60,61,62,63,64,65,70,71,73) have mixed types. Specify dtype option on import or set low_memory=False.\n",
      "  df = pd.read_csv(StringIO(response.text), delimiter=',')\n",
      "C:\\Users\\jbousqui\\Local_GIS\\Python\\Miniforge3\\envs\\jupyter-harmonize\\lib\\site-packages\\dataretrieval\\wqp.py:83: DtypeWarning: Columns (9,10,13,15,17,19,21,22,23,28,31,33,34,36,38,58,60,61,64,65,70,71,73) have mixed types. Specify dtype option on import or set low_memory=False.\n",
      "  df = pd.read_csv(StringIO(response.text), delimiter=',')\n",
      "C:\\Users\\jbousqui\\Local_GIS\\Python\\Miniforge3\\envs\\jupyter-harmonize\\lib\\site-packages\\dataretrieval\\wqp.py:83: DtypeWarning: Columns (9,10,12,13,15,17,19,21,22,23,28,31,33,34,36,58,60,61,64,65,70,71,73) have mixed types. Specify dtype option on import or set low_memory=False.\n",
      "  df = pd.read_csv(StringIO(response.text), delimiter=',')\n",
      "C:\\Users\\jbousqui\\Local_GIS\\Python\\Miniforge3\\envs\\jupyter-harmonize\\lib\\site-packages\\dataretrieval\\wqp.py:83: DtypeWarning: Columns (9,15,19,31,33,36,38,70,71) have mixed types. Specify dtype option on import or set low_memory=False.\n",
      "  df = pd.read_csv(StringIO(response.text), delimiter=',')\n",
      "C:\\Users\\jbousqui\\Local_GIS\\Python\\Miniforge3\\envs\\jupyter-harmonize\\lib\\site-packages\\dataretrieval\\wqp.py:83: DtypeWarning: Columns (10,15,17,19,22,23,28,31,33,34,36,60,62,64,65,70,71) have mixed types. Specify dtype option on import or set low_memory=False.\n",
      "  df = pd.read_csv(StringIO(response.text), delimiter=',')\n",
      "C:\\Users\\jbousqui\\Local_GIS\\Python\\Miniforge3\\envs\\jupyter-harmonize\\lib\\site-packages\\dataretrieval\\wqp.py:83: DtypeWarning: Columns (10,15,17,19,21,22,23,31,33,34,36,60,64,65,70,71,72) have mixed types. Specify dtype option on import or set low_memory=False.\n",
      "  df = pd.read_csv(StringIO(response.text), delimiter=',')\n",
      "C:\\Users\\jbousqui\\Local_GIS\\Python\\Miniforge3\\envs\\jupyter-harmonize\\lib\\site-packages\\dataretrieval\\wqp.py:83: DtypeWarning: Columns (8,10,15,17,19,21,22,31,33,60,64,65,70,71) have mixed types. Specify dtype option on import or set low_memory=False.\n",
      "  df = pd.read_csv(StringIO(response.text), delimiter=',')\n",
      "C:\\Users\\jbousqui\\Local_GIS\\Python\\Miniforge3\\envs\\jupyter-harmonize\\lib\\site-packages\\dataretrieval\\wqp.py:83: DtypeWarning: Columns (10,15,17,19,22,23,28,31,33,34,36,60,62,64,65,70,71) have mixed types. Specify dtype option on import or set low_memory=False.\n",
      "  df = pd.read_csv(StringIO(response.text), delimiter=',')\n",
      "C:\\Users\\jbousqui\\Local_GIS\\Python\\Miniforge3\\envs\\jupyter-harmonize\\lib\\site-packages\\dataretrieval\\wqp.py:83: DtypeWarning: Columns (9,10,13,15,17,19,20,21,22,23,28,31,33,34,36,38,58,60,61,64,65,70,71,73) have mixed types. Specify dtype option on import or set low_memory=False.\n",
      "  df = pd.read_csv(StringIO(response.text), delimiter=',')\n",
      "C:\\Users\\jbousqui\\Local_GIS\\Python\\Miniforge3\\envs\\jupyter-harmonize\\lib\\site-packages\\dataretrieval\\wqp.py:83: DtypeWarning: Columns (9,10,12,13,15,17,19,20,21,22,23,28,31,33,58,60,61,64,65,70,71,73) have mixed types. Specify dtype option on import or set low_memory=False.\n",
      "  df = pd.read_csv(StringIO(response.text), delimiter=',')\n",
      "C:\\Users\\jbousqui\\Local_GIS\\Python\\Miniforge3\\envs\\jupyter-harmonize\\lib\\site-packages\\dataretrieval\\wqp.py:83: DtypeWarning: Columns (4,5,9,10,15,17,31,33,36,38,61,62,63,64,65,70,71) have mixed types. Specify dtype option on import or set low_memory=False.\n",
      "  df = pd.read_csv(StringIO(response.text), delimiter=',')\n",
      "C:\\Users\\jbousqui\\Local_GIS\\Python\\Miniforge3\\envs\\jupyter-harmonize\\lib\\site-packages\\dataretrieval\\wqp.py:83: DtypeWarning: Columns (8,10,17,19,20,21,22,28,33,60,64,65,69) have mixed types. Specify dtype option on import or set low_memory=False.\n",
      "  df = pd.read_csv(StringIO(response.text), delimiter=',')\n",
      "C:\\Users\\jbousqui\\Local_GIS\\Python\\Miniforge3\\envs\\jupyter-harmonize\\lib\\site-packages\\dataretrieval\\wqp.py:83: DtypeWarning: Columns (9,10,12,13,15,17,19,20,22,28,31,33,58,60,61,62,63,64,65,70,71,73) have mixed types. Specify dtype option on import or set low_memory=False.\n",
      "  df = pd.read_csv(StringIO(response.text), delimiter=',')\n",
      "C:\\Users\\jbousqui\\Local_GIS\\Python\\Miniforge3\\envs\\jupyter-harmonize\\lib\\site-packages\\dataretrieval\\wqp.py:83: DtypeWarning: Columns (4,5,9,10,15,17,19,22,31,33,34,36,38,61,62,63,70,71) have mixed types. Specify dtype option on import or set low_memory=False.\n",
      "  df = pd.read_csv(StringIO(response.text), delimiter=',')\n",
      "C:\\Users\\jbousqui\\Local_GIS\\Python\\Miniforge3\\envs\\jupyter-harmonize\\lib\\site-packages\\dataretrieval\\wqp.py:83: DtypeWarning: Columns (9,10,12,13,15,17,19,21,22,31,33,36,38,61,62,64,65,70,71,72) have mixed types. Specify dtype option on import or set low_memory=False.\n",
      "  df = pd.read_csv(StringIO(response.text), delimiter=',')\n",
      "C:\\Users\\jbousqui\\Local_GIS\\Python\\Miniforge3\\envs\\jupyter-harmonize\\lib\\site-packages\\dataretrieval\\wqp.py:83: DtypeWarning: Columns (4,5,9,10,15,17,19,22,31,33,34,36,38,61,62,63,70,71) have mixed types. Specify dtype option on import or set low_memory=False.\n",
      "  df = pd.read_csv(StringIO(response.text), delimiter=',')\n",
      "C:\\Users\\jbousqui\\Local_GIS\\Python\\Miniforge3\\envs\\jupyter-harmonize\\lib\\site-packages\\dataretrieval\\wqp.py:83: DtypeWarning: Columns (10,15,17,19,22,23,31,33,34,36,60,64,65,70,71) have mixed types. Specify dtype option on import or set low_memory=False.\n",
      "  df = pd.read_csv(StringIO(response.text), delimiter=',')\n",
      "C:\\Users\\jbousqui\\Local_GIS\\Python\\Miniforge3\\envs\\jupyter-harmonize\\lib\\site-packages\\dataretrieval\\wqp.py:83: DtypeWarning: Columns (10,15,17,19,21,22,28,31,33,60,63,64,65,70,71,72) have mixed types. Specify dtype option on import or set low_memory=False.\n",
      "  df = pd.read_csv(StringIO(response.text), delimiter=',')\n",
      "C:\\Users\\jbousqui\\Local_GIS\\Python\\Miniforge3\\envs\\jupyter-harmonize\\lib\\site-packages\\dataretrieval\\wqp.py:83: DtypeWarning: Columns (10,15,17,19,20,22,28,31,33,34,36,38,60,61,62,63,69,70) have mixed types. Specify dtype option on import or set low_memory=False.\n",
      "  df = pd.read_csv(StringIO(response.text), delimiter=',')\n",
      "C:\\Users\\jbousqui\\Local_GIS\\Python\\Miniforge3\\envs\\jupyter-harmonize\\lib\\site-packages\\dataretrieval\\wqp.py:83: DtypeWarning: Columns (9,10,13,15,17,19,22,31,33,36,38,60,61,70,71,73) have mixed types. Specify dtype option on import or set low_memory=False.\n",
      "  df = pd.read_csv(StringIO(response.text), delimiter=',')\n",
      "C:\\Users\\jbousqui\\Local_GIS\\Python\\Miniforge3\\envs\\jupyter-harmonize\\lib\\site-packages\\dataretrieval\\wqp.py:83: DtypeWarning: Columns (9,10,13,15,17,19,20,21,22,23,28,31,33,34,36,58,60,61,64,65,70,71,72,73) have mixed types. Specify dtype option on import or set low_memory=False.\n",
      "  df = pd.read_csv(StringIO(response.text), delimiter=',')\n",
      "C:\\Users\\jbousqui\\Local_GIS\\Python\\Miniforge3\\envs\\jupyter-harmonize\\lib\\site-packages\\dataretrieval\\wqp.py:83: DtypeWarning: Columns (10,13,19,23,31,60,69,70,72,73) have mixed types. Specify dtype option on import or set low_memory=False.\n",
      "  df = pd.read_csv(StringIO(response.text), delimiter=',')\n",
      "C:\\Users\\jbousqui\\Local_GIS\\Python\\Miniforge3\\envs\\jupyter-harmonize\\lib\\site-packages\\dataretrieval\\wqp.py:83: DtypeWarning: Columns (19,22,70) have mixed types. Specify dtype option on import or set low_memory=False.\n",
      "  df = pd.read_csv(StringIO(response.text), delimiter=',')\n",
      "C:\\Users\\jbousqui\\Local_GIS\\Python\\Miniforge3\\envs\\jupyter-harmonize\\lib\\site-packages\\dataretrieval\\wqp.py:83: DtypeWarning: Columns (9,10,15,17,19,20,22,31,33,34,36,38,60,61,62,63,64,65,70,71,72) have mixed types. Specify dtype option on import or set low_memory=False.\n",
      "  df = pd.read_csv(StringIO(response.text), delimiter=',')\n",
      "C:\\Users\\jbousqui\\Local_GIS\\Python\\Miniforge3\\envs\\jupyter-harmonize\\lib\\site-packages\\dataretrieval\\wqp.py:83: DtypeWarning: Columns (15,17,28,31,33,36,38,61,62,63,71) have mixed types. Specify dtype option on import or set low_memory=False.\n",
      "  df = pd.read_csv(StringIO(response.text), delimiter=',')\n",
      "C:\\Users\\jbousqui\\Local_GIS\\Python\\Miniforge3\\envs\\jupyter-harmonize\\lib\\site-packages\\dataretrieval\\wqp.py:83: DtypeWarning: Columns (9,10,13,15,17,23,28,31,33,58,60,61,64,65,71,73) have mixed types. Specify dtype option on import or set low_memory=False.\n",
      "  df = pd.read_csv(StringIO(response.text), delimiter=',')\n",
      "C:\\Users\\jbousqui\\Local_GIS\\Python\\Miniforge3\\envs\\jupyter-harmonize\\lib\\site-packages\\dataretrieval\\wqp.py:83: DtypeWarning: Columns (10,15,21,31,33,60,64,65,71,73) have mixed types. Specify dtype option on import or set low_memory=False.\n",
      "  df = pd.read_csv(StringIO(response.text), delimiter=',')\n",
      "C:\\Users\\jbousqui\\Local_GIS\\Python\\Miniforge3\\envs\\jupyter-harmonize\\lib\\site-packages\\dataretrieval\\wqp.py:83: DtypeWarning: Columns (9,10,13,15,17,19,20,21,22,23,28,31,33,34,36,58,60,61,64,65,70,71,73) have mixed types. Specify dtype option on import or set low_memory=False.\n",
      "  df = pd.read_csv(StringIO(response.text), delimiter=',')\n",
      "C:\\Users\\jbousqui\\Local_GIS\\Python\\Miniforge3\\envs\\jupyter-harmonize\\lib\\site-packages\\dataretrieval\\wqp.py:83: DtypeWarning: Columns (9,10,13,19,23,28,31,58,60,61,64,65,70,71,73) have mixed types. Specify dtype option on import or set low_memory=False.\n",
      "  df = pd.read_csv(StringIO(response.text), delimiter=',')\n",
      "C:\\Users\\jbousqui\\Local_GIS\\Python\\Miniforge3\\envs\\jupyter-harmonize\\lib\\site-packages\\dataretrieval\\wqp.py:83: DtypeWarning: Columns (9,10,13,15,17,19,22,23,28,31,33,56,57,58,60,61,62,63,64,65,70,71,73) have mixed types. Specify dtype option on import or set low_memory=False.\n",
      "  df = pd.read_csv(StringIO(response.text), delimiter=',')\n",
      "C:\\Users\\jbousqui\\Local_GIS\\Python\\Miniforge3\\envs\\jupyter-harmonize\\lib\\site-packages\\dataretrieval\\wqp.py:116: DtypeWarning: Columns (8,10,27,29,30,33,35) have mixed types. Specify dtype option on import or set low_memory=False.\n",
      "  df = pd.read_csv(StringIO(response.text), delimiter=',')\n",
      "C:\\Users\\jbousqui\\Local_GIS\\Python\\Miniforge3\\envs\\jupyter-harmonize\\lib\\site-packages\\dataretrieval\\wqp.py:83: DtypeWarning: Columns (15,17,19,22,31,33,70) have mixed types. Specify dtype option on import or set low_memory=False.\n",
      "  df = pd.read_csv(StringIO(response.text), delimiter=',')\n",
      "C:\\Users\\jbousqui\\Local_GIS\\Python\\Miniforge3\\envs\\jupyter-harmonize\\lib\\site-packages\\dataretrieval\\wqp.py:83: DtypeWarning: Columns (8,9,10,13,15,17,19,21,22,23,28,31,32,33,34,36,58,60,61,62,63,64,65,69,70,71,72) have mixed types. Specify dtype option on import or set low_memory=False.\n",
      "  df = pd.read_csv(StringIO(response.text), delimiter=',')\n"
     ]
    }
   ],
   "source": [
    "results = []\n",
    "\n",
    "for i in range(0, len(aoi_gdf_all)):\n",
    "    # Build rest of query\n",
    "    aoi_gdf = aoi_gdf_all.iloc[i:i+1]\n",
    "    query['dataProfile'] = 'narrowResult'\n",
    "    query['bBox'] = wrangle.get_bounding_box(aoi_gdf)\n",
    "    # Run data query\n",
    "    res_narrow, md_narrow = wqp.get_results(**query)\n",
    "    # Run location query\n",
    "    stations_gdf, stations, site_md = location.get_harmonized_stations(query, aoi=aoi_gdf)\n",
    "    # Merge\n",
    "    # NOTE: for fewer station columns: df2_cols=['geometry', 'QA_flag'] \n",
    "    combined = wrangle.merge_tables(res_narrow, stations_gdf, merge_cols=['MonitoringLocationIdentifier'])\n",
    "    # Add geoDataFrame to list\n",
    "    results.append(combined)"
   ]
  },
  {
   "cell_type": "code",
   "execution_count": 10,
   "metadata": {},
   "outputs": [],
   "source": [
    "# Combine list of DataFrames into one geoDataFrame\n",
    "results_df = pandas.concat(results).drop_duplicates()\n",
    "gdf = geopandas.GeoDataFrame(results_df, geometry='geometry')"
   ]
  },
  {
   "cell_type": "markdown",
   "metadata": {},
   "source": [
    "#### Harmonize full dataset"
   ]
  },
  {
   "cell_type": "code",
   "execution_count": 18,
   "metadata": {},
   "outputs": [
    {
     "name": "stderr",
     "output_type": "stream",
     "text": [
      "C:\\Users\\jbousqui\\AppData\\Local\\Temp\\ipykernel_22932\\2688400647.py:2: UserWarning: Column names longer than 10 characters will be truncated when saved to ESRI Shapefile.\n",
      "  gdf.to_file(r'C:\\Users\\jbousqui\\Local_GIS\\GOM.shp')\n"
     ]
    },
    {
     "ename": "MemoryError",
     "evalue": "Unable to allocate 3.30 GiB for an array with shape (46, 9630092) and data type float64",
     "output_type": "error",
     "traceback": [
      "\u001b[1;31m---------------------------------------------------------------------------\u001b[0m",
      "\u001b[1;31mMemoryError\u001b[0m                               Traceback (most recent call last)",
      "Cell \u001b[1;32mIn[18], line 2\u001b[0m\n\u001b[0;32m      1\u001b[0m \u001b[38;5;66;03m# before debug, save to disk\u001b[39;00m\n\u001b[1;32m----> 2\u001b[0m \u001b[43mgdf\u001b[49m\u001b[38;5;241;43m.\u001b[39;49m\u001b[43mto_file\u001b[49m\u001b[43m(\u001b[49m\u001b[38;5;124;43mr\u001b[39;49m\u001b[38;5;124;43m'\u001b[39;49m\u001b[38;5;124;43mC:\u001b[39;49m\u001b[38;5;124;43m\\\u001b[39;49m\u001b[38;5;124;43mUsers\u001b[39;49m\u001b[38;5;124;43m\\\u001b[39;49m\u001b[38;5;124;43mjbousqui\u001b[39;49m\u001b[38;5;124;43m\\\u001b[39;49m\u001b[38;5;124;43mLocal_GIS\u001b[39;49m\u001b[38;5;124;43m\\\u001b[39;49m\u001b[38;5;124;43mGOM.shp\u001b[39;49m\u001b[38;5;124;43m'\u001b[39;49m\u001b[43m)\u001b[49m\n",
      "File \u001b[1;32m~\\Local_GIS\\Python\\Miniforge3\\envs\\jupyter-harmonize\\lib\\site-packages\\geopandas\\geodataframe.py:1203\u001b[0m, in \u001b[0;36mGeoDataFrame.to_file\u001b[1;34m(self, filename, driver, schema, index, **kwargs)\u001b[0m\n\u001b[0;32m   1120\u001b[0m \u001b[38;5;250m\u001b[39m\u001b[38;5;124;03m\"\"\"Write the ``GeoDataFrame`` to a file.\u001b[39;00m\n\u001b[0;32m   1121\u001b[0m \n\u001b[0;32m   1122\u001b[0m \u001b[38;5;124;03mBy default, an ESRI shapefile is written, but any OGR data source\u001b[39;00m\n\u001b[1;32m   (...)\u001b[0m\n\u001b[0;32m   1199\u001b[0m \u001b[38;5;124;03m>>> gdf.to_file('dataframe.shp', mode=\"a\")  # doctest: +SKIP\u001b[39;00m\n\u001b[0;32m   1200\u001b[0m \u001b[38;5;124;03m\"\"\"\u001b[39;00m\n\u001b[0;32m   1201\u001b[0m \u001b[38;5;28;01mfrom\u001b[39;00m \u001b[38;5;21;01mgeopandas\u001b[39;00m\u001b[38;5;21;01m.\u001b[39;00m\u001b[38;5;21;01mio\u001b[39;00m\u001b[38;5;21;01m.\u001b[39;00m\u001b[38;5;21;01mfile\u001b[39;00m \u001b[38;5;28;01mimport\u001b[39;00m _to_file\n\u001b[1;32m-> 1203\u001b[0m \u001b[43m_to_file\u001b[49m\u001b[43m(\u001b[49m\u001b[38;5;28;43mself\u001b[39;49m\u001b[43m,\u001b[49m\u001b[43m \u001b[49m\u001b[43mfilename\u001b[49m\u001b[43m,\u001b[49m\u001b[43m \u001b[49m\u001b[43mdriver\u001b[49m\u001b[43m,\u001b[49m\u001b[43m \u001b[49m\u001b[43mschema\u001b[49m\u001b[43m,\u001b[49m\u001b[43m \u001b[49m\u001b[43mindex\u001b[49m\u001b[43m,\u001b[49m\u001b[43m \u001b[49m\u001b[38;5;241;43m*\u001b[39;49m\u001b[38;5;241;43m*\u001b[39;49m\u001b[43mkwargs\u001b[49m\u001b[43m)\u001b[49m\n",
      "File \u001b[1;32m~\\Local_GIS\\Python\\Miniforge3\\envs\\jupyter-harmonize\\lib\\site-packages\\geopandas\\io\\file.py:545\u001b[0m, in \u001b[0;36m_to_file\u001b[1;34m(df, filename, driver, schema, index, mode, crs, engine, **kwargs)\u001b[0m\n\u001b[0;32m    538\u001b[0m     warnings\u001b[38;5;241m.\u001b[39mwarn(\n\u001b[0;32m    539\u001b[0m         \u001b[38;5;124m\"\u001b[39m\u001b[38;5;124mColumn names longer than 10 characters will be truncated when saved to \u001b[39m\u001b[38;5;124m\"\u001b[39m\n\u001b[0;32m    540\u001b[0m         \u001b[38;5;124m\"\u001b[39m\u001b[38;5;124mESRI Shapefile.\u001b[39m\u001b[38;5;124m\"\u001b[39m,\n\u001b[0;32m    541\u001b[0m         stacklevel\u001b[38;5;241m=\u001b[39m\u001b[38;5;241m3\u001b[39m,\n\u001b[0;32m    542\u001b[0m     )\n\u001b[0;32m    544\u001b[0m \u001b[38;5;28;01mif\u001b[39;00m engine \u001b[38;5;241m==\u001b[39m \u001b[38;5;124m\"\u001b[39m\u001b[38;5;124mfiona\u001b[39m\u001b[38;5;124m\"\u001b[39m:\n\u001b[1;32m--> 545\u001b[0m     \u001b[43m_to_file_fiona\u001b[49m\u001b[43m(\u001b[49m\u001b[43mdf\u001b[49m\u001b[43m,\u001b[49m\u001b[43m \u001b[49m\u001b[43mfilename\u001b[49m\u001b[43m,\u001b[49m\u001b[43m \u001b[49m\u001b[43mdriver\u001b[49m\u001b[43m,\u001b[49m\u001b[43m \u001b[49m\u001b[43mschema\u001b[49m\u001b[43m,\u001b[49m\u001b[43m \u001b[49m\u001b[43mcrs\u001b[49m\u001b[43m,\u001b[49m\u001b[43m \u001b[49m\u001b[43mmode\u001b[49m\u001b[43m,\u001b[49m\u001b[43m \u001b[49m\u001b[38;5;241;43m*\u001b[39;49m\u001b[38;5;241;43m*\u001b[39;49m\u001b[43mkwargs\u001b[49m\u001b[43m)\u001b[49m\n\u001b[0;32m    546\u001b[0m \u001b[38;5;28;01melif\u001b[39;00m engine \u001b[38;5;241m==\u001b[39m \u001b[38;5;124m\"\u001b[39m\u001b[38;5;124mpyogrio\u001b[39m\u001b[38;5;124m\"\u001b[39m:\n\u001b[0;32m    547\u001b[0m     _to_file_pyogrio(df, filename, driver, schema, crs, mode, \u001b[38;5;241m*\u001b[39m\u001b[38;5;241m*\u001b[39mkwargs)\n",
      "File \u001b[1;32m~\\Local_GIS\\Python\\Miniforge3\\envs\\jupyter-harmonize\\lib\\site-packages\\geopandas\\io\\file.py:555\u001b[0m, in \u001b[0;36m_to_file_fiona\u001b[1;34m(df, filename, driver, schema, crs, mode, **kwargs)\u001b[0m\n\u001b[0;32m    552\u001b[0m \u001b[38;5;28;01mdef\u001b[39;00m \u001b[38;5;21m_to_file_fiona\u001b[39m(df, filename, driver, schema, crs, mode, \u001b[38;5;241m*\u001b[39m\u001b[38;5;241m*\u001b[39mkwargs):\n\u001b[0;32m    554\u001b[0m     \u001b[38;5;28;01mif\u001b[39;00m schema \u001b[38;5;129;01mis\u001b[39;00m \u001b[38;5;28;01mNone\u001b[39;00m:\n\u001b[1;32m--> 555\u001b[0m         schema \u001b[38;5;241m=\u001b[39m \u001b[43minfer_schema\u001b[49m\u001b[43m(\u001b[49m\u001b[43mdf\u001b[49m\u001b[43m)\u001b[49m\n\u001b[0;32m    557\u001b[0m     \u001b[38;5;28;01mif\u001b[39;00m crs:\n\u001b[0;32m    558\u001b[0m         crs \u001b[38;5;241m=\u001b[39m pyproj\u001b[38;5;241m.\u001b[39mCRS\u001b[38;5;241m.\u001b[39mfrom_user_input(crs)\n",
      "File \u001b[1;32m~\\Local_GIS\\Python\\Miniforge3\\envs\\jupyter-harmonize\\lib\\site-packages\\geopandas\\io\\file.py:639\u001b[0m, in \u001b[0;36minfer_schema\u001b[1;34m(df)\u001b[0m\n\u001b[0;32m    630\u001b[0m     warnings\u001b[38;5;241m.\u001b[39mwarn(\n\u001b[0;32m    631\u001b[0m         \u001b[38;5;124m\"\u001b[39m\u001b[38;5;124mYou are attempting to write an empty DataFrame to file. \u001b[39m\u001b[38;5;124m\"\u001b[39m\n\u001b[0;32m    632\u001b[0m         \u001b[38;5;124m\"\u001b[39m\u001b[38;5;124mFor some drivers, this operation may fail.\u001b[39m\u001b[38;5;124m\"\u001b[39m,\n\u001b[0;32m    633\u001b[0m         \u001b[38;5;167;01mUserWarning\u001b[39;00m,\n\u001b[0;32m    634\u001b[0m         stacklevel\u001b[38;5;241m=\u001b[39m\u001b[38;5;241m3\u001b[39m,\n\u001b[0;32m    635\u001b[0m     )\n\u001b[0;32m    637\u001b[0m \u001b[38;5;66;03m# Since https://github.com/Toblerity/Fiona/issues/446 resolution,\u001b[39;00m\n\u001b[0;32m    638\u001b[0m \u001b[38;5;66;03m# Fiona allows a list of geometry types\u001b[39;00m\n\u001b[1;32m--> 639\u001b[0m geom_types \u001b[38;5;241m=\u001b[39m \u001b[43m_geometry_types\u001b[49m\u001b[43m(\u001b[49m\u001b[43mdf\u001b[49m\u001b[43m)\u001b[49m\n\u001b[0;32m    641\u001b[0m schema \u001b[38;5;241m=\u001b[39m {\u001b[38;5;124m\"\u001b[39m\u001b[38;5;124mgeometry\u001b[39m\u001b[38;5;124m\"\u001b[39m: geom_types, \u001b[38;5;124m\"\u001b[39m\u001b[38;5;124mproperties\u001b[39m\u001b[38;5;124m\"\u001b[39m: properties}\n\u001b[0;32m    643\u001b[0m \u001b[38;5;28;01mreturn\u001b[39;00m schema\n",
      "File \u001b[1;32m~\\Local_GIS\\Python\\Miniforge3\\envs\\jupyter-harmonize\\lib\\site-packages\\geopandas\\io\\file.py:650\u001b[0m, in \u001b[0;36m_geometry_types\u001b[1;34m(df)\u001b[0m\n\u001b[0;32m    646\u001b[0m \u001b[38;5;28;01mdef\u001b[39;00m \u001b[38;5;21m_geometry_types\u001b[39m(df):\n\u001b[0;32m    647\u001b[0m \u001b[38;5;250m    \u001b[39m\u001b[38;5;124;03m\"\"\"\u001b[39;00m\n\u001b[0;32m    648\u001b[0m \u001b[38;5;124;03m    Determine the geometry types in the GeoDataFrame for the schema.\u001b[39;00m\n\u001b[0;32m    649\u001b[0m \u001b[38;5;124;03m    \"\"\"\u001b[39;00m\n\u001b[1;32m--> 650\u001b[0m     geom_types_2D \u001b[38;5;241m=\u001b[39m \u001b[43mdf\u001b[49m\u001b[43m[\u001b[49m\u001b[38;5;241;43m~\u001b[39;49m\u001b[43mdf\u001b[49m\u001b[38;5;241;43m.\u001b[39;49m\u001b[43mgeometry\u001b[49m\u001b[38;5;241;43m.\u001b[39;49m\u001b[43mhas_z\u001b[49m\u001b[43m]\u001b[49m\u001b[38;5;241m.\u001b[39mgeometry\u001b[38;5;241m.\u001b[39mgeom_type\u001b[38;5;241m.\u001b[39munique()\n\u001b[0;32m    651\u001b[0m     geom_types_2D \u001b[38;5;241m=\u001b[39m [gtype \u001b[38;5;28;01mfor\u001b[39;00m gtype \u001b[38;5;129;01min\u001b[39;00m geom_types_2D \u001b[38;5;28;01mif\u001b[39;00m gtype \u001b[38;5;129;01mis\u001b[39;00m \u001b[38;5;129;01mnot\u001b[39;00m \u001b[38;5;28;01mNone\u001b[39;00m]\n\u001b[0;32m    652\u001b[0m     geom_types_3D \u001b[38;5;241m=\u001b[39m df[df\u001b[38;5;241m.\u001b[39mgeometry\u001b[38;5;241m.\u001b[39mhas_z]\u001b[38;5;241m.\u001b[39mgeometry\u001b[38;5;241m.\u001b[39mgeom_type\u001b[38;5;241m.\u001b[39munique()\n",
      "File \u001b[1;32m~\\Local_GIS\\Python\\Miniforge3\\envs\\jupyter-harmonize\\lib\\site-packages\\geopandas\\geodataframe.py:1415\u001b[0m, in \u001b[0;36mGeoDataFrame.__getitem__\u001b[1;34m(self, key)\u001b[0m\n\u001b[0;32m   1409\u001b[0m \u001b[38;5;28;01mdef\u001b[39;00m \u001b[38;5;21m__getitem__\u001b[39m(\u001b[38;5;28mself\u001b[39m, key):\n\u001b[0;32m   1410\u001b[0m \u001b[38;5;250m    \u001b[39m\u001b[38;5;124;03m\"\"\"\u001b[39;00m\n\u001b[0;32m   1411\u001b[0m \u001b[38;5;124;03m    If the result is a column containing only 'geometry', return a\u001b[39;00m\n\u001b[0;32m   1412\u001b[0m \u001b[38;5;124;03m    GeoSeries. If it's a DataFrame with any columns of GeometryDtype,\u001b[39;00m\n\u001b[0;32m   1413\u001b[0m \u001b[38;5;124;03m    return a GeoDataFrame.\u001b[39;00m\n\u001b[0;32m   1414\u001b[0m \u001b[38;5;124;03m    \"\"\"\u001b[39;00m\n\u001b[1;32m-> 1415\u001b[0m     result \u001b[38;5;241m=\u001b[39m \u001b[38;5;28;43msuper\u001b[39;49m\u001b[43m(\u001b[49m\u001b[43m)\u001b[49m\u001b[38;5;241;43m.\u001b[39;49m\u001b[38;5;21;43m__getitem__\u001b[39;49m\u001b[43m(\u001b[49m\u001b[43mkey\u001b[49m\u001b[43m)\u001b[49m\n\u001b[0;32m   1416\u001b[0m     geo_col \u001b[38;5;241m=\u001b[39m \u001b[38;5;28mself\u001b[39m\u001b[38;5;241m.\u001b[39m_geometry_column_name\n\u001b[0;32m   1417\u001b[0m     \u001b[38;5;28;01mif\u001b[39;00m \u001b[38;5;28misinstance\u001b[39m(result, Series) \u001b[38;5;129;01mand\u001b[39;00m \u001b[38;5;28misinstance\u001b[39m(result\u001b[38;5;241m.\u001b[39mdtype, GeometryDtype):\n",
      "File \u001b[1;32m~\\Local_GIS\\Python\\Miniforge3\\envs\\jupyter-harmonize\\lib\\site-packages\\pandas\\core\\frame.py:3798\u001b[0m, in \u001b[0;36mDataFrame.__getitem__\u001b[1;34m(self, key)\u001b[0m\n\u001b[0;32m   3796\u001b[0m \u001b[38;5;66;03m# Do we have a (boolean) 1d indexer?\u001b[39;00m\n\u001b[0;32m   3797\u001b[0m \u001b[38;5;28;01mif\u001b[39;00m com\u001b[38;5;241m.\u001b[39mis_bool_indexer(key):\n\u001b[1;32m-> 3798\u001b[0m     \u001b[38;5;28;01mreturn\u001b[39;00m \u001b[38;5;28;43mself\u001b[39;49m\u001b[38;5;241;43m.\u001b[39;49m\u001b[43m_getitem_bool_array\u001b[49m\u001b[43m(\u001b[49m\u001b[43mkey\u001b[49m\u001b[43m)\u001b[49m\n\u001b[0;32m   3800\u001b[0m \u001b[38;5;66;03m# We are left with two options: a single key, and a collection of keys,\u001b[39;00m\n\u001b[0;32m   3801\u001b[0m \u001b[38;5;66;03m# We interpret tuples as collections only for non-MultiIndex\u001b[39;00m\n\u001b[0;32m   3802\u001b[0m is_single_key \u001b[38;5;241m=\u001b[39m \u001b[38;5;28misinstance\u001b[39m(key, \u001b[38;5;28mtuple\u001b[39m) \u001b[38;5;129;01mor\u001b[39;00m \u001b[38;5;129;01mnot\u001b[39;00m is_list_like(key)\n",
      "File \u001b[1;32m~\\Local_GIS\\Python\\Miniforge3\\envs\\jupyter-harmonize\\lib\\site-packages\\pandas\\core\\frame.py:3853\u001b[0m, in \u001b[0;36mDataFrame._getitem_bool_array\u001b[1;34m(self, key)\u001b[0m\n\u001b[0;32m   3851\u001b[0m key \u001b[38;5;241m=\u001b[39m check_bool_indexer(\u001b[38;5;28mself\u001b[39m\u001b[38;5;241m.\u001b[39mindex, key)\n\u001b[0;32m   3852\u001b[0m indexer \u001b[38;5;241m=\u001b[39m key\u001b[38;5;241m.\u001b[39mnonzero()[\u001b[38;5;241m0\u001b[39m]\n\u001b[1;32m-> 3853\u001b[0m \u001b[38;5;28;01mreturn\u001b[39;00m \u001b[38;5;28;43mself\u001b[39;49m\u001b[38;5;241;43m.\u001b[39;49m\u001b[43m_take_with_is_copy\u001b[49m\u001b[43m(\u001b[49m\u001b[43mindexer\u001b[49m\u001b[43m,\u001b[49m\u001b[43m \u001b[49m\u001b[43maxis\u001b[49m\u001b[38;5;241;43m=\u001b[39;49m\u001b[38;5;241;43m0\u001b[39;49m\u001b[43m)\u001b[49m\n",
      "File \u001b[1;32m~\\Local_GIS\\Python\\Miniforge3\\envs\\jupyter-harmonize\\lib\\site-packages\\pandas\\core\\generic.py:3902\u001b[0m, in \u001b[0;36mNDFrame._take_with_is_copy\u001b[1;34m(self, indices, axis)\u001b[0m\n\u001b[0;32m   3894\u001b[0m \u001b[38;5;28;01mdef\u001b[39;00m \u001b[38;5;21m_take_with_is_copy\u001b[39m(\u001b[38;5;28mself\u001b[39m: NDFrameT, indices, axis\u001b[38;5;241m=\u001b[39m\u001b[38;5;241m0\u001b[39m) \u001b[38;5;241m-\u001b[39m\u001b[38;5;241m>\u001b[39m NDFrameT:\n\u001b[0;32m   3895\u001b[0m \u001b[38;5;250m    \u001b[39m\u001b[38;5;124;03m\"\"\"\u001b[39;00m\n\u001b[0;32m   3896\u001b[0m \u001b[38;5;124;03m    Internal version of the `take` method that sets the `_is_copy`\u001b[39;00m\n\u001b[0;32m   3897\u001b[0m \u001b[38;5;124;03m    attribute to keep track of the parent dataframe (using in indexing\u001b[39;00m\n\u001b[1;32m   (...)\u001b[0m\n\u001b[0;32m   3900\u001b[0m \u001b[38;5;124;03m    See the docstring of `take` for full explanation of the parameters.\u001b[39;00m\n\u001b[0;32m   3901\u001b[0m \u001b[38;5;124;03m    \"\"\"\u001b[39;00m\n\u001b[1;32m-> 3902\u001b[0m     result \u001b[38;5;241m=\u001b[39m \u001b[38;5;28;43mself\u001b[39;49m\u001b[38;5;241;43m.\u001b[39;49m\u001b[43m_take\u001b[49m\u001b[43m(\u001b[49m\u001b[43mindices\u001b[49m\u001b[38;5;241;43m=\u001b[39;49m\u001b[43mindices\u001b[49m\u001b[43m,\u001b[49m\u001b[43m \u001b[49m\u001b[43maxis\u001b[49m\u001b[38;5;241;43m=\u001b[39;49m\u001b[43maxis\u001b[49m\u001b[43m)\u001b[49m\n\u001b[0;32m   3903\u001b[0m     \u001b[38;5;66;03m# Maybe set copy if we didn't actually change the index.\u001b[39;00m\n\u001b[0;32m   3904\u001b[0m     \u001b[38;5;28;01mif\u001b[39;00m \u001b[38;5;129;01mnot\u001b[39;00m result\u001b[38;5;241m.\u001b[39m_get_axis(axis)\u001b[38;5;241m.\u001b[39mequals(\u001b[38;5;28mself\u001b[39m\u001b[38;5;241m.\u001b[39m_get_axis(axis)):\n",
      "File \u001b[1;32m~\\Local_GIS\\Python\\Miniforge3\\envs\\jupyter-harmonize\\lib\\site-packages\\pandas\\core\\generic.py:3886\u001b[0m, in \u001b[0;36mNDFrame._take\u001b[1;34m(self, indices, axis, convert_indices)\u001b[0m\n\u001b[0;32m   3879\u001b[0m \u001b[38;5;250m\u001b[39m\u001b[38;5;124;03m\"\"\"\u001b[39;00m\n\u001b[0;32m   3880\u001b[0m \u001b[38;5;124;03mInternal version of the `take` allowing specification of additional args.\u001b[39;00m\n\u001b[0;32m   3881\u001b[0m \n\u001b[0;32m   3882\u001b[0m \u001b[38;5;124;03mSee the docstring of `take` for full explanation of the parameters.\u001b[39;00m\n\u001b[0;32m   3883\u001b[0m \u001b[38;5;124;03m\"\"\"\u001b[39;00m\n\u001b[0;32m   3884\u001b[0m \u001b[38;5;28mself\u001b[39m\u001b[38;5;241m.\u001b[39m_consolidate_inplace()\n\u001b[1;32m-> 3886\u001b[0m new_data \u001b[38;5;241m=\u001b[39m \u001b[38;5;28;43mself\u001b[39;49m\u001b[38;5;241;43m.\u001b[39;49m\u001b[43m_mgr\u001b[49m\u001b[38;5;241;43m.\u001b[39;49m\u001b[43mtake\u001b[49m\u001b[43m(\u001b[49m\n\u001b[0;32m   3887\u001b[0m \u001b[43m    \u001b[49m\u001b[43mindices\u001b[49m\u001b[43m,\u001b[49m\n\u001b[0;32m   3888\u001b[0m \u001b[43m    \u001b[49m\u001b[43maxis\u001b[49m\u001b[38;5;241;43m=\u001b[39;49m\u001b[38;5;28;43mself\u001b[39;49m\u001b[38;5;241;43m.\u001b[39;49m\u001b[43m_get_block_manager_axis\u001b[49m\u001b[43m(\u001b[49m\u001b[43maxis\u001b[49m\u001b[43m)\u001b[49m\u001b[43m,\u001b[49m\n\u001b[0;32m   3889\u001b[0m \u001b[43m    \u001b[49m\u001b[43mverify\u001b[49m\u001b[38;5;241;43m=\u001b[39;49m\u001b[38;5;28;43;01mTrue\u001b[39;49;00m\u001b[43m,\u001b[49m\n\u001b[0;32m   3890\u001b[0m \u001b[43m    \u001b[49m\u001b[43mconvert_indices\u001b[49m\u001b[38;5;241;43m=\u001b[39;49m\u001b[43mconvert_indices\u001b[49m\u001b[43m,\u001b[49m\n\u001b[0;32m   3891\u001b[0m \u001b[43m\u001b[49m\u001b[43m)\u001b[49m\n\u001b[0;32m   3892\u001b[0m \u001b[38;5;28;01mreturn\u001b[39;00m \u001b[38;5;28mself\u001b[39m\u001b[38;5;241m.\u001b[39m_constructor(new_data)\u001b[38;5;241m.\u001b[39m__finalize__(\u001b[38;5;28mself\u001b[39m, method\u001b[38;5;241m=\u001b[39m\u001b[38;5;124m\"\u001b[39m\u001b[38;5;124mtake\u001b[39m\u001b[38;5;124m\"\u001b[39m)\n",
      "File \u001b[1;32m~\\Local_GIS\\Python\\Miniforge3\\envs\\jupyter-harmonize\\lib\\site-packages\\pandas\\core\\internals\\managers.py:978\u001b[0m, in \u001b[0;36mBaseBlockManager.take\u001b[1;34m(self, indexer, axis, verify, convert_indices)\u001b[0m\n\u001b[0;32m    975\u001b[0m     indexer \u001b[38;5;241m=\u001b[39m maybe_convert_indices(indexer, n, verify\u001b[38;5;241m=\u001b[39mverify)\n\u001b[0;32m    977\u001b[0m new_labels \u001b[38;5;241m=\u001b[39m \u001b[38;5;28mself\u001b[39m\u001b[38;5;241m.\u001b[39maxes[axis]\u001b[38;5;241m.\u001b[39mtake(indexer)\n\u001b[1;32m--> 978\u001b[0m \u001b[38;5;28;01mreturn\u001b[39;00m \u001b[38;5;28;43mself\u001b[39;49m\u001b[38;5;241;43m.\u001b[39;49m\u001b[43mreindex_indexer\u001b[49m\u001b[43m(\u001b[49m\n\u001b[0;32m    979\u001b[0m \u001b[43m    \u001b[49m\u001b[43mnew_axis\u001b[49m\u001b[38;5;241;43m=\u001b[39;49m\u001b[43mnew_labels\u001b[49m\u001b[43m,\u001b[49m\n\u001b[0;32m    980\u001b[0m \u001b[43m    \u001b[49m\u001b[43mindexer\u001b[49m\u001b[38;5;241;43m=\u001b[39;49m\u001b[43mindexer\u001b[49m\u001b[43m,\u001b[49m\n\u001b[0;32m    981\u001b[0m \u001b[43m    \u001b[49m\u001b[43maxis\u001b[49m\u001b[38;5;241;43m=\u001b[39;49m\u001b[43maxis\u001b[49m\u001b[43m,\u001b[49m\n\u001b[0;32m    982\u001b[0m \u001b[43m    \u001b[49m\u001b[43mallow_dups\u001b[49m\u001b[38;5;241;43m=\u001b[39;49m\u001b[38;5;28;43;01mTrue\u001b[39;49;00m\u001b[43m,\u001b[49m\n\u001b[0;32m    983\u001b[0m \u001b[43m    \u001b[49m\u001b[43mcopy\u001b[49m\u001b[38;5;241;43m=\u001b[39;49m\u001b[38;5;28;43;01mNone\u001b[39;49;00m\u001b[43m,\u001b[49m\n\u001b[0;32m    984\u001b[0m \u001b[43m\u001b[49m\u001b[43m)\u001b[49m\n",
      "File \u001b[1;32m~\\Local_GIS\\Python\\Miniforge3\\envs\\jupyter-harmonize\\lib\\site-packages\\pandas\\core\\internals\\managers.py:751\u001b[0m, in \u001b[0;36mBaseBlockManager.reindex_indexer\u001b[1;34m(self, new_axis, indexer, axis, fill_value, allow_dups, copy, only_slice, use_na_proxy)\u001b[0m\n\u001b[0;32m    749\u001b[0m     parent \u001b[38;5;241m=\u001b[39m \u001b[38;5;28;01mNone\u001b[39;00m \u001b[38;5;28;01mif\u001b[39;00m com\u001b[38;5;241m.\u001b[39mall_none(\u001b[38;5;241m*\u001b[39mnew_refs) \u001b[38;5;28;01melse\u001b[39;00m \u001b[38;5;28mself\u001b[39m\n\u001b[0;32m    750\u001b[0m \u001b[38;5;28;01melse\u001b[39;00m:\n\u001b[1;32m--> 751\u001b[0m     new_blocks \u001b[38;5;241m=\u001b[39m [\n\u001b[0;32m    752\u001b[0m         blk\u001b[38;5;241m.\u001b[39mtake_nd(\n\u001b[0;32m    753\u001b[0m             indexer,\n\u001b[0;32m    754\u001b[0m             axis\u001b[38;5;241m=\u001b[39m\u001b[38;5;241m1\u001b[39m,\n\u001b[0;32m    755\u001b[0m             fill_value\u001b[38;5;241m=\u001b[39m(\n\u001b[0;32m    756\u001b[0m                 fill_value \u001b[38;5;28;01mif\u001b[39;00m fill_value \u001b[38;5;129;01mis\u001b[39;00m \u001b[38;5;129;01mnot\u001b[39;00m \u001b[38;5;28;01mNone\u001b[39;00m \u001b[38;5;28;01melse\u001b[39;00m blk\u001b[38;5;241m.\u001b[39mfill_value\n\u001b[0;32m    757\u001b[0m             ),\n\u001b[0;32m    758\u001b[0m         )\n\u001b[0;32m    759\u001b[0m         \u001b[38;5;28;01mfor\u001b[39;00m blk \u001b[38;5;129;01min\u001b[39;00m \u001b[38;5;28mself\u001b[39m\u001b[38;5;241m.\u001b[39mblocks\n\u001b[0;32m    760\u001b[0m     ]\n\u001b[0;32m    761\u001b[0m     new_refs \u001b[38;5;241m=\u001b[39m \u001b[38;5;28;01mNone\u001b[39;00m\n\u001b[0;32m    762\u001b[0m     parent \u001b[38;5;241m=\u001b[39m \u001b[38;5;28;01mNone\u001b[39;00m\n",
      "File \u001b[1;32m~\\Local_GIS\\Python\\Miniforge3\\envs\\jupyter-harmonize\\lib\\site-packages\\pandas\\core\\internals\\managers.py:752\u001b[0m, in \u001b[0;36m<listcomp>\u001b[1;34m(.0)\u001b[0m\n\u001b[0;32m    749\u001b[0m     parent \u001b[38;5;241m=\u001b[39m \u001b[38;5;28;01mNone\u001b[39;00m \u001b[38;5;28;01mif\u001b[39;00m com\u001b[38;5;241m.\u001b[39mall_none(\u001b[38;5;241m*\u001b[39mnew_refs) \u001b[38;5;28;01melse\u001b[39;00m \u001b[38;5;28mself\u001b[39m\n\u001b[0;32m    750\u001b[0m \u001b[38;5;28;01melse\u001b[39;00m:\n\u001b[0;32m    751\u001b[0m     new_blocks \u001b[38;5;241m=\u001b[39m [\n\u001b[1;32m--> 752\u001b[0m         \u001b[43mblk\u001b[49m\u001b[38;5;241;43m.\u001b[39;49m\u001b[43mtake_nd\u001b[49m\u001b[43m(\u001b[49m\n\u001b[0;32m    753\u001b[0m \u001b[43m            \u001b[49m\u001b[43mindexer\u001b[49m\u001b[43m,\u001b[49m\n\u001b[0;32m    754\u001b[0m \u001b[43m            \u001b[49m\u001b[43maxis\u001b[49m\u001b[38;5;241;43m=\u001b[39;49m\u001b[38;5;241;43m1\u001b[39;49m\u001b[43m,\u001b[49m\n\u001b[0;32m    755\u001b[0m \u001b[43m            \u001b[49m\u001b[43mfill_value\u001b[49m\u001b[38;5;241;43m=\u001b[39;49m\u001b[43m(\u001b[49m\n\u001b[0;32m    756\u001b[0m \u001b[43m                \u001b[49m\u001b[43mfill_value\u001b[49m\u001b[43m \u001b[49m\u001b[38;5;28;43;01mif\u001b[39;49;00m\u001b[43m \u001b[49m\u001b[43mfill_value\u001b[49m\u001b[43m \u001b[49m\u001b[38;5;129;43;01mis\u001b[39;49;00m\u001b[43m \u001b[49m\u001b[38;5;129;43;01mnot\u001b[39;49;00m\u001b[43m \u001b[49m\u001b[38;5;28;43;01mNone\u001b[39;49;00m\u001b[43m \u001b[49m\u001b[38;5;28;43;01melse\u001b[39;49;00m\u001b[43m \u001b[49m\u001b[43mblk\u001b[49m\u001b[38;5;241;43m.\u001b[39;49m\u001b[43mfill_value\u001b[49m\n\u001b[0;32m    757\u001b[0m \u001b[43m            \u001b[49m\u001b[43m)\u001b[49m\u001b[43m,\u001b[49m\n\u001b[0;32m    758\u001b[0m \u001b[43m        \u001b[49m\u001b[43m)\u001b[49m\n\u001b[0;32m    759\u001b[0m         \u001b[38;5;28;01mfor\u001b[39;00m blk \u001b[38;5;129;01min\u001b[39;00m \u001b[38;5;28mself\u001b[39m\u001b[38;5;241m.\u001b[39mblocks\n\u001b[0;32m    760\u001b[0m     ]\n\u001b[0;32m    761\u001b[0m     new_refs \u001b[38;5;241m=\u001b[39m \u001b[38;5;28;01mNone\u001b[39;00m\n\u001b[0;32m    762\u001b[0m     parent \u001b[38;5;241m=\u001b[39m \u001b[38;5;28;01mNone\u001b[39;00m\n",
      "File \u001b[1;32m~\\Local_GIS\\Python\\Miniforge3\\envs\\jupyter-harmonize\\lib\\site-packages\\pandas\\core\\internals\\blocks.py:880\u001b[0m, in \u001b[0;36mBlock.take_nd\u001b[1;34m(self, indexer, axis, new_mgr_locs, fill_value)\u001b[0m\n\u001b[0;32m    877\u001b[0m     allow_fill \u001b[38;5;241m=\u001b[39m \u001b[38;5;28;01mTrue\u001b[39;00m\n\u001b[0;32m    879\u001b[0m \u001b[38;5;66;03m# Note: algos.take_nd has upcast logic similar to coerce_to_target_dtype\u001b[39;00m\n\u001b[1;32m--> 880\u001b[0m new_values \u001b[38;5;241m=\u001b[39m \u001b[43malgos\u001b[49m\u001b[38;5;241;43m.\u001b[39;49m\u001b[43mtake_nd\u001b[49m\u001b[43m(\u001b[49m\n\u001b[0;32m    881\u001b[0m \u001b[43m    \u001b[49m\u001b[43mvalues\u001b[49m\u001b[43m,\u001b[49m\u001b[43m \u001b[49m\u001b[43mindexer\u001b[49m\u001b[43m,\u001b[49m\u001b[43m \u001b[49m\u001b[43maxis\u001b[49m\u001b[38;5;241;43m=\u001b[39;49m\u001b[43maxis\u001b[49m\u001b[43m,\u001b[49m\u001b[43m \u001b[49m\u001b[43mallow_fill\u001b[49m\u001b[38;5;241;43m=\u001b[39;49m\u001b[43mallow_fill\u001b[49m\u001b[43m,\u001b[49m\u001b[43m \u001b[49m\u001b[43mfill_value\u001b[49m\u001b[38;5;241;43m=\u001b[39;49m\u001b[43mfill_value\u001b[49m\n\u001b[0;32m    882\u001b[0m \u001b[43m\u001b[49m\u001b[43m)\u001b[49m\n\u001b[0;32m    884\u001b[0m \u001b[38;5;66;03m# Called from three places in managers, all of which satisfy\u001b[39;00m\n\u001b[0;32m    885\u001b[0m \u001b[38;5;66;03m#  this assertion\u001b[39;00m\n\u001b[0;32m    886\u001b[0m \u001b[38;5;28;01massert\u001b[39;00m \u001b[38;5;129;01mnot\u001b[39;00m (axis \u001b[38;5;241m==\u001b[39m \u001b[38;5;241m0\u001b[39m \u001b[38;5;129;01mand\u001b[39;00m new_mgr_locs \u001b[38;5;129;01mis\u001b[39;00m \u001b[38;5;28;01mNone\u001b[39;00m)\n",
      "File \u001b[1;32m~\\Local_GIS\\Python\\Miniforge3\\envs\\jupyter-harmonize\\lib\\site-packages\\pandas\\core\\array_algos\\take.py:117\u001b[0m, in \u001b[0;36mtake_nd\u001b[1;34m(arr, indexer, axis, fill_value, allow_fill)\u001b[0m\n\u001b[0;32m    114\u001b[0m     \u001b[38;5;28;01mreturn\u001b[39;00m arr\u001b[38;5;241m.\u001b[39mtake(indexer, fill_value\u001b[38;5;241m=\u001b[39mfill_value, allow_fill\u001b[38;5;241m=\u001b[39mallow_fill)\n\u001b[0;32m    116\u001b[0m arr \u001b[38;5;241m=\u001b[39m np\u001b[38;5;241m.\u001b[39masarray(arr)\n\u001b[1;32m--> 117\u001b[0m \u001b[38;5;28;01mreturn\u001b[39;00m \u001b[43m_take_nd_ndarray\u001b[49m\u001b[43m(\u001b[49m\u001b[43marr\u001b[49m\u001b[43m,\u001b[49m\u001b[43m \u001b[49m\u001b[43mindexer\u001b[49m\u001b[43m,\u001b[49m\u001b[43m \u001b[49m\u001b[43maxis\u001b[49m\u001b[43m,\u001b[49m\u001b[43m \u001b[49m\u001b[43mfill_value\u001b[49m\u001b[43m,\u001b[49m\u001b[43m \u001b[49m\u001b[43mallow_fill\u001b[49m\u001b[43m)\u001b[49m\n",
      "File \u001b[1;32m~\\Local_GIS\\Python\\Miniforge3\\envs\\jupyter-harmonize\\lib\\site-packages\\pandas\\core\\array_algos\\take.py:158\u001b[0m, in \u001b[0;36m_take_nd_ndarray\u001b[1;34m(arr, indexer, axis, fill_value, allow_fill)\u001b[0m\n\u001b[0;32m    156\u001b[0m     out \u001b[38;5;241m=\u001b[39m np\u001b[38;5;241m.\u001b[39mempty(out_shape, dtype\u001b[38;5;241m=\u001b[39mdtype, order\u001b[38;5;241m=\u001b[39m\u001b[38;5;124m\"\u001b[39m\u001b[38;5;124mF\u001b[39m\u001b[38;5;124m\"\u001b[39m)\n\u001b[0;32m    157\u001b[0m \u001b[38;5;28;01melse\u001b[39;00m:\n\u001b[1;32m--> 158\u001b[0m     out \u001b[38;5;241m=\u001b[39m \u001b[43mnp\u001b[49m\u001b[38;5;241;43m.\u001b[39;49m\u001b[43mempty\u001b[49m\u001b[43m(\u001b[49m\u001b[43mout_shape\u001b[49m\u001b[43m,\u001b[49m\u001b[43m \u001b[49m\u001b[43mdtype\u001b[49m\u001b[38;5;241;43m=\u001b[39;49m\u001b[43mdtype\u001b[49m\u001b[43m)\u001b[49m\n\u001b[0;32m    160\u001b[0m func \u001b[38;5;241m=\u001b[39m _get_take_nd_function(\n\u001b[0;32m    161\u001b[0m     arr\u001b[38;5;241m.\u001b[39mndim, arr\u001b[38;5;241m.\u001b[39mdtype, out\u001b[38;5;241m.\u001b[39mdtype, axis\u001b[38;5;241m=\u001b[39maxis, mask_info\u001b[38;5;241m=\u001b[39mmask_info\n\u001b[0;32m    162\u001b[0m )\n\u001b[0;32m    163\u001b[0m func(arr, indexer, out, fill_value)\n",
      "\u001b[1;31mMemoryError\u001b[0m: Unable to allocate 3.30 GiB for an array with shape (46, 9630092) and data type float64"
     ]
    }
   ],
   "source": [
    "# before debug, save to disk\n",
    "gdf.to_file(r'C:\\Users\\jbousqui\\Local_GIS\\GOM.shp')"
   ]
  },
  {
   "cell_type": "code",
   "execution_count": 19,
   "metadata": {},
   "outputs": [
    {
     "name": "stdout",
     "output_type": "stream",
     "text": [
      "Chlorophyll a\n"
     ]
    },
    {
     "ename": "MemoryError",
     "evalue": "Unable to allocate 3.30 GiB for an array with shape (46, 9630092) and data type float64",
     "output_type": "error",
     "traceback": [
      "\u001b[1;31m---------------------------------------------------------------------------\u001b[0m",
      "\u001b[1;31mMemoryError\u001b[0m                               Traceback (most recent call last)",
      "Cell \u001b[1;32mIn[19], line 5\u001b[0m\n\u001b[0;32m      3\u001b[0m \u001b[38;5;28;01mfor\u001b[39;00m char_val \u001b[38;5;129;01min\u001b[39;00m char_vals:\n\u001b[0;32m      4\u001b[0m     \u001b[38;5;28mprint\u001b[39m(char_val)\n\u001b[1;32m----> 5\u001b[0m     gdf \u001b[38;5;241m=\u001b[39m \u001b[43mharmonize\u001b[49m\u001b[38;5;241;43m.\u001b[39;49m\u001b[43mharmonize_generic\u001b[49m\u001b[43m(\u001b[49m\u001b[43mgdf\u001b[49m\u001b[43m,\u001b[49m\u001b[43m \u001b[49m\u001b[43mchar_val\u001b[49m\u001b[43m,\u001b[49m\u001b[43m \u001b[49m\u001b[43merrors\u001b[49m\u001b[38;5;241;43m=\u001b[39;49m\u001b[38;5;124;43m'\u001b[39;49m\u001b[38;5;124;43mignore\u001b[39;49m\u001b[38;5;124;43m'\u001b[39;49m\u001b[43m)\u001b[49m\n",
      "File \u001b[1;32m~\\Local_GIS\\Python\\Miniforge3\\envs\\jupyter-harmonize\\lib\\site-packages\\harmonize_wq\\harmonize.py:1022\u001b[0m, in \u001b[0;36mharmonize_generic\u001b[1;34m(df_in, char_val, units_out, errors, intermediate_columns, report)\u001b[0m\n\u001b[0;32m    995\u001b[0m \u001b[38;5;28;01mdef\u001b[39;00m \u001b[38;5;21mharmonize_generic\u001b[39m(df_in, char_val, units_out\u001b[38;5;241m=\u001b[39m\u001b[38;5;28;01mNone\u001b[39;00m, errors\u001b[38;5;241m=\u001b[39m\u001b[38;5;124m'\u001b[39m\u001b[38;5;124mraise\u001b[39m\u001b[38;5;124m'\u001b[39m,\n\u001b[0;32m    996\u001b[0m                       intermediate_columns\u001b[38;5;241m=\u001b[39m\u001b[38;5;28;01mFalse\u001b[39;00m, report\u001b[38;5;241m=\u001b[39m\u001b[38;5;28;01mFalse\u001b[39;00m):\n\u001b[0;32m    997\u001b[0m \u001b[38;5;250m    \u001b[39m\u001b[38;5;124;03m\"\"\"\u001b[39;00m\n\u001b[0;32m    998\u001b[0m \u001b[38;5;124;03m    Harmonize a given char_val using the appropriate function\u001b[39;00m\n\u001b[0;32m    999\u001b[0m \n\u001b[0;32m   1000\u001b[0m \u001b[38;5;124;03m    Parameters\u001b[39;00m\n\u001b[0;32m   1001\u001b[0m \u001b[38;5;124;03m    ----------\u001b[39;00m\n\u001b[0;32m   1002\u001b[0m \u001b[38;5;124;03m    df_in : pandas.DataFrame\u001b[39;00m\n\u001b[0;32m   1003\u001b[0m \u001b[38;5;124;03m        DataFrame with the expected activity date time columns.\u001b[39;00m\n\u001b[0;32m   1004\u001b[0m \u001b[38;5;124;03m    char_val : string\u001b[39;00m\n\u001b[0;32m   1005\u001b[0m \u001b[38;5;124;03m        Expected 'CharacteristicName'.\u001b[39;00m\n\u001b[0;32m   1006\u001b[0m \u001b[38;5;124;03m    units_out : string, optional\u001b[39;00m\n\u001b[0;32m   1007\u001b[0m \u001b[38;5;124;03m        Desired units to convert values into. The default is None.\u001b[39;00m\n\u001b[0;32m   1008\u001b[0m \u001b[38;5;124;03m    errors : string, optional\u001b[39;00m\n\u001b[0;32m   1009\u001b[0m \u001b[38;5;124;03m        Values of ‘ignore’, ‘raise’, or ‘skip’. The default is ‘raise’.\u001b[39;00m\n\u001b[0;32m   1010\u001b[0m \u001b[38;5;124;03m        If ‘raise’, then invalid dimension conversions will raise an exception.\u001b[39;00m\n\u001b[0;32m   1011\u001b[0m \u001b[38;5;124;03m        If ‘skip’, then invalid dimension conversions will not be converted.\u001b[39;00m\n\u001b[0;32m   1012\u001b[0m \u001b[38;5;124;03m        If ‘ignore’, then invalid dimension conversions will return the NaN.\u001b[39;00m\n\u001b[0;32m   1013\u001b[0m \u001b[38;5;124;03m    intermediate_columns : Boolean, optional\u001b[39;00m\n\u001b[0;32m   1014\u001b[0m \u001b[38;5;124;03m        Return intermediate columns. Default 'False' does not return these.\u001b[39;00m\n\u001b[0;32m   1015\u001b[0m \u001b[38;5;124;03m    report : bool, optional\u001b[39;00m\n\u001b[0;32m   1016\u001b[0m \u001b[38;5;124;03m        Print a change summary report. The default is False.\u001b[39;00m\n\u001b[0;32m   1017\u001b[0m \n\u001b[0;32m   1018\u001b[0m \u001b[38;5;124;03m    Returns\u001b[39;00m\n\u001b[0;32m   1019\u001b[0m \u001b[38;5;124;03m    -------\u001b[39;00m\n\u001b[0;32m   1020\u001b[0m \u001b[38;5;124;03m    df : pandas.DataFrame\u001b[39;00m\n\u001b[0;32m   1021\u001b[0m \u001b[38;5;124;03m        Updated copy of df_in\u001b[39;00m\n\u001b[1;32m-> 1022\u001b[0m \u001b[38;5;124;03m    \"\"\"\u001b[39;00m\n\u001b[0;32m   1023\u001b[0m     \u001b[38;5;66;03m# Check/retrieve standard attributes and df columns as object\u001b[39;00m\n\u001b[0;32m   1024\u001b[0m     wqp \u001b[38;5;241m=\u001b[39m WQCharData(df_in, char_val)\n",
      "File \u001b[1;32m~\\Local_GIS\\Python\\Miniforge3\\envs\\jupyter-harmonize\\lib\\site-packages\\harmonize_wq\\harmonize.py:51\u001b[0m, in \u001b[0;36mWQCharData.__init__\u001b[1;34m(self, df_in, char_val)\u001b[0m\n\u001b[0;32m     40\u001b[0m \u001b[38;5;28;01mdef\u001b[39;00m \u001b[38;5;21m__init__\u001b[39m(\u001b[38;5;28mself\u001b[39m, df_in, char_val):\n\u001b[0;32m     41\u001b[0m \u001b[38;5;250m    \u001b[39m\u001b[38;5;124;03m\"\"\"\u001b[39;00m\n\u001b[0;32m     42\u001b[0m \u001b[38;5;124;03m    Create class based off rows of dataframe for characteristic.\u001b[39;00m\n\u001b[0;32m     43\u001b[0m \n\u001b[1;32m   (...)\u001b[0m\n\u001b[0;32m     49\u001b[0m \u001b[38;5;124;03m        Expected characteristicName.\u001b[39;00m\n\u001b[0;32m     50\u001b[0m \u001b[38;5;124;03m    \"\"\"\u001b[39;00m\n\u001b[1;32m---> 51\u001b[0m     df_out \u001b[38;5;241m=\u001b[39m \u001b[43mdf_in\u001b[49m\u001b[38;5;241;43m.\u001b[39;49m\u001b[43mcopy\u001b[49m\u001b[43m(\u001b[49m\u001b[43m)\u001b[49m\n\u001b[0;32m     52\u001b[0m     \u001b[38;5;66;03m# self.check_df(df)\u001b[39;00m\n\u001b[0;32m     53\u001b[0m     df_checks(df_out)\n",
      "File \u001b[1;32m~\\Local_GIS\\Python\\Miniforge3\\envs\\jupyter-harmonize\\lib\\site-packages\\pandas\\core\\generic.py:6368\u001b[0m, in \u001b[0;36mNDFrame.copy\u001b[1;34m(self, deep)\u001b[0m\n\u001b[0;32m   6258\u001b[0m \u001b[38;5;129m@final\u001b[39m\n\u001b[0;32m   6259\u001b[0m \u001b[38;5;28;01mdef\u001b[39;00m \u001b[38;5;21mcopy\u001b[39m(\u001b[38;5;28mself\u001b[39m: NDFrameT, deep: bool_t \u001b[38;5;241m|\u001b[39m \u001b[38;5;28;01mNone\u001b[39;00m \u001b[38;5;241m=\u001b[39m \u001b[38;5;28;01mTrue\u001b[39;00m) \u001b[38;5;241m-\u001b[39m\u001b[38;5;241m>\u001b[39m NDFrameT:\n\u001b[0;32m   6260\u001b[0m \u001b[38;5;250m    \u001b[39m\u001b[38;5;124;03m\"\"\"\u001b[39;00m\n\u001b[0;32m   6261\u001b[0m \u001b[38;5;124;03m    Make a copy of this object's indices and data.\u001b[39;00m\n\u001b[0;32m   6262\u001b[0m \n\u001b[1;32m   (...)\u001b[0m\n\u001b[0;32m   6366\u001b[0m \u001b[38;5;124;03m    dtype: object\u001b[39;00m\n\u001b[0;32m   6367\u001b[0m \u001b[38;5;124;03m    \"\"\"\u001b[39;00m\n\u001b[1;32m-> 6368\u001b[0m     data \u001b[38;5;241m=\u001b[39m \u001b[38;5;28;43mself\u001b[39;49m\u001b[38;5;241;43m.\u001b[39;49m\u001b[43m_mgr\u001b[49m\u001b[38;5;241;43m.\u001b[39;49m\u001b[43mcopy\u001b[49m\u001b[43m(\u001b[49m\u001b[43mdeep\u001b[49m\u001b[38;5;241;43m=\u001b[39;49m\u001b[43mdeep\u001b[49m\u001b[43m)\u001b[49m\n\u001b[0;32m   6369\u001b[0m     \u001b[38;5;28mself\u001b[39m\u001b[38;5;241m.\u001b[39m_clear_item_cache()\n\u001b[0;32m   6370\u001b[0m     \u001b[38;5;28;01mreturn\u001b[39;00m \u001b[38;5;28mself\u001b[39m\u001b[38;5;241m.\u001b[39m_constructor(data)\u001b[38;5;241m.\u001b[39m__finalize__(\u001b[38;5;28mself\u001b[39m, method\u001b[38;5;241m=\u001b[39m\u001b[38;5;124m\"\u001b[39m\u001b[38;5;124mcopy\u001b[39m\u001b[38;5;124m\"\u001b[39m)\n",
      "File \u001b[1;32m~\\Local_GIS\\Python\\Miniforge3\\envs\\jupyter-harmonize\\lib\\site-packages\\pandas\\core\\internals\\managers.py:649\u001b[0m, in \u001b[0;36mBaseBlockManager.copy\u001b[1;34m(self, deep)\u001b[0m\n\u001b[0;32m    646\u001b[0m \u001b[38;5;28;01melse\u001b[39;00m:\n\u001b[0;32m    647\u001b[0m     new_axes \u001b[38;5;241m=\u001b[39m \u001b[38;5;28mlist\u001b[39m(\u001b[38;5;28mself\u001b[39m\u001b[38;5;241m.\u001b[39maxes)\n\u001b[1;32m--> 649\u001b[0m res \u001b[38;5;241m=\u001b[39m \u001b[38;5;28;43mself\u001b[39;49m\u001b[38;5;241;43m.\u001b[39;49m\u001b[43mapply\u001b[49m\u001b[43m(\u001b[49m\u001b[38;5;124;43m\"\u001b[39;49m\u001b[38;5;124;43mcopy\u001b[39;49m\u001b[38;5;124;43m\"\u001b[39;49m\u001b[43m,\u001b[49m\u001b[43m \u001b[49m\u001b[43mdeep\u001b[49m\u001b[38;5;241;43m=\u001b[39;49m\u001b[43mdeep\u001b[49m\u001b[43m)\u001b[49m\n\u001b[0;32m    650\u001b[0m new_refs: \u001b[38;5;28mlist\u001b[39m[weakref\u001b[38;5;241m.\u001b[39mref \u001b[38;5;241m|\u001b[39m \u001b[38;5;28;01mNone\u001b[39;00m] \u001b[38;5;241m|\u001b[39m \u001b[38;5;28;01mNone\u001b[39;00m\n\u001b[0;32m    651\u001b[0m \u001b[38;5;28;01mif\u001b[39;00m deep:\n",
      "File \u001b[1;32m~\\Local_GIS\\Python\\Miniforge3\\envs\\jupyter-harmonize\\lib\\site-packages\\pandas\\core\\internals\\managers.py:352\u001b[0m, in \u001b[0;36mBaseBlockManager.apply\u001b[1;34m(self, f, align_keys, ignore_failures, **kwargs)\u001b[0m\n\u001b[0;32m    350\u001b[0m         applied \u001b[38;5;241m=\u001b[39m b\u001b[38;5;241m.\u001b[39mapply(f, \u001b[38;5;241m*\u001b[39m\u001b[38;5;241m*\u001b[39mkwargs)\n\u001b[0;32m    351\u001b[0m     \u001b[38;5;28;01melse\u001b[39;00m:\n\u001b[1;32m--> 352\u001b[0m         applied \u001b[38;5;241m=\u001b[39m \u001b[38;5;28;43mgetattr\u001b[39;49m\u001b[43m(\u001b[49m\u001b[43mb\u001b[49m\u001b[43m,\u001b[49m\u001b[43m \u001b[49m\u001b[43mf\u001b[49m\u001b[43m)\u001b[49m\u001b[43m(\u001b[49m\u001b[38;5;241;43m*\u001b[39;49m\u001b[38;5;241;43m*\u001b[39;49m\u001b[43mkwargs\u001b[49m\u001b[43m)\u001b[49m\n\u001b[0;32m    353\u001b[0m \u001b[38;5;28;01mexcept\u001b[39;00m (\u001b[38;5;167;01mTypeError\u001b[39;00m, \u001b[38;5;167;01mNotImplementedError\u001b[39;00m):\n\u001b[0;32m    354\u001b[0m     \u001b[38;5;28;01mif\u001b[39;00m \u001b[38;5;129;01mnot\u001b[39;00m ignore_failures:\n",
      "File \u001b[1;32m~\\Local_GIS\\Python\\Miniforge3\\envs\\jupyter-harmonize\\lib\\site-packages\\pandas\\core\\internals\\blocks.py:549\u001b[0m, in \u001b[0;36mBlock.copy\u001b[1;34m(self, deep)\u001b[0m\n\u001b[0;32m    547\u001b[0m values \u001b[38;5;241m=\u001b[39m \u001b[38;5;28mself\u001b[39m\u001b[38;5;241m.\u001b[39mvalues\n\u001b[0;32m    548\u001b[0m \u001b[38;5;28;01mif\u001b[39;00m deep:\n\u001b[1;32m--> 549\u001b[0m     values \u001b[38;5;241m=\u001b[39m \u001b[43mvalues\u001b[49m\u001b[38;5;241;43m.\u001b[39;49m\u001b[43mcopy\u001b[49m\u001b[43m(\u001b[49m\u001b[43m)\u001b[49m\n\u001b[0;32m    550\u001b[0m \u001b[38;5;28;01mreturn\u001b[39;00m \u001b[38;5;28mtype\u001b[39m(\u001b[38;5;28mself\u001b[39m)(values, placement\u001b[38;5;241m=\u001b[39m\u001b[38;5;28mself\u001b[39m\u001b[38;5;241m.\u001b[39m_mgr_locs, ndim\u001b[38;5;241m=\u001b[39m\u001b[38;5;28mself\u001b[39m\u001b[38;5;241m.\u001b[39mndim)\n",
      "\u001b[1;31mMemoryError\u001b[0m: Unable to allocate 3.30 GiB for an array with shape (46, 9630092) and data type float64"
     ]
    }
   ],
   "source": [
    "# debug harmonize.harmonize_all(gdf, errors='ignore')\n",
    "char_vals = list(set(df_out['CharacteristicName']))\n",
    "for char_val in char_vals:\n",
    "    print(char_val)\n",
    "    gdf = harmonize.harmonize_generic(gdf, char_val, errors='ignore')"
   ]
  },
  {
   "cell_type": "code",
   "execution_count": 11,
   "metadata": {},
   "outputs": [
    {
     "name": "stdout",
     "output_type": "stream",
     "text": [
      "Unexpected exception formatting exception. Falling back to standard exception\n"
     ]
    },
    {
     "name": "stderr",
     "output_type": "stream",
     "text": [
      "Traceback (most recent call last):\n",
      "  File \"C:\\Users\\jbousqui\\Local_GIS\\Python\\Miniforge3\\envs\\jupyter-harmonize\\lib\\site-packages\\IPython\\core\\interactiveshell.py\", line 3505, in run_code\n",
      "    exec(code_obj, self.user_global_ns, self.user_ns)\n",
      "  File \"C:\\Users\\jbousqui\\AppData\\Local\\Temp\\ipykernel_22932\\71343121.py\", line 1, in <module>\n",
      "    df_harmonized = harmonize.harmonize_all(gdf, errors='ignore')\n",
      "  File \"C:\\Users\\jbousqui\\Local_GIS\\Python\\Miniforge3\\envs\\jupyter-harmonize\\lib\\site-packages\\harmonize_wq\\harmonize.py\", line 989, in harmonize_all\n",
      "  File \"C:\\Users\\jbousqui\\Local_GIS\\Python\\Miniforge3\\envs\\jupyter-harmonize\\lib\\site-packages\\harmonize_wq\\harmonize.py\", line 1022, in harmonize_generic\n",
      "    \"\"\"\n",
      "  File \"C:\\Users\\jbousqui\\Local_GIS\\Python\\Miniforge3\\envs\\jupyter-harmonize\\lib\\site-packages\\harmonize_wq\\harmonize.py\", line 67, in __init__\n",
      "    self.coerce_measure()\n",
      "  File \"C:\\Users\\jbousqui\\Local_GIS\\Python\\Miniforge3\\envs\\jupyter-harmonize\\lib\\site-packages\\harmonize_wq\\harmonize.py\", line 84, in coerce_measure\n",
      "    for bad_meas in pandas.unique(bad_measures):\n",
      "  File \"C:\\Users\\jbousqui\\Local_GIS\\Python\\Miniforge3\\envs\\jupyter-harmonize\\lib\\site-packages\\pandas\\core\\algorithms.py\", line 409, in unique\n",
      "    return unique_with_mask(values)\n",
      "  File \"C:\\Users\\jbousqui\\Local_GIS\\Python\\Miniforge3\\envs\\jupyter-harmonize\\lib\\site-packages\\pandas\\core\\algorithms.py\", line 425, in unique_with_mask\n",
      "    uniques = table.unique(values)\n",
      "  File \"pandas\\_libs\\hashtable_class_helper.pxi\", line 5910, in pandas._libs.hashtable.PyObjectHashTable.unique\n",
      "  File \"pandas\\_libs\\hashtable_class_helper.pxi\", line 5857, in pandas._libs.hashtable.PyObjectHashTable._unique\n",
      "TypeError: unhashable type: 'Series'\n",
      "\n",
      "During handling of the above exception, another exception occurred:\n",
      "\n",
      "Traceback (most recent call last):\n",
      "  File \"C:\\Users\\jbousqui\\Local_GIS\\Python\\Miniforge3\\envs\\jupyter-harmonize\\lib\\site-packages\\IPython\\core\\interactiveshell.py\", line 2102, in showtraceback\n",
      "    stb = self.InteractiveTB.structured_traceback(\n",
      "  File \"C:\\Users\\jbousqui\\Local_GIS\\Python\\Miniforge3\\envs\\jupyter-harmonize\\lib\\site-packages\\IPython\\core\\ultratb.py\", line 1310, in structured_traceback\n",
      "    return FormattedTB.structured_traceback(\n",
      "  File \"C:\\Users\\jbousqui\\Local_GIS\\Python\\Miniforge3\\envs\\jupyter-harmonize\\lib\\site-packages\\IPython\\core\\ultratb.py\", line 1199, in structured_traceback\n",
      "    return VerboseTB.structured_traceback(\n",
      "  File \"C:\\Users\\jbousqui\\Local_GIS\\Python\\Miniforge3\\envs\\jupyter-harmonize\\lib\\site-packages\\IPython\\core\\ultratb.py\", line 1052, in structured_traceback\n",
      "    formatted_exception = self.format_exception_as_a_whole(etype, evalue, etb, number_of_lines_of_context,\n",
      "  File \"C:\\Users\\jbousqui\\Local_GIS\\Python\\Miniforge3\\envs\\jupyter-harmonize\\lib\\site-packages\\IPython\\core\\ultratb.py\", line 978, in format_exception_as_a_whole\n",
      "    frames.append(self.format_record(record))\n",
      "  File \"C:\\Users\\jbousqui\\Local_GIS\\Python\\Miniforge3\\envs\\jupyter-harmonize\\lib\\site-packages\\IPython\\core\\ultratb.py\", line 878, in format_record\n",
      "    frame_info.lines, Colors, self.has_colors, lvals\n",
      "  File \"C:\\Users\\jbousqui\\Local_GIS\\Python\\Miniforge3\\envs\\jupyter-harmonize\\lib\\site-packages\\IPython\\core\\ultratb.py\", line 712, in lines\n",
      "    return self._sd.lines\n",
      "  File \"C:\\Users\\jbousqui\\Local_GIS\\Python\\Miniforge3\\envs\\jupyter-harmonize\\lib\\site-packages\\stack_data\\utils.py\", line 144, in cached_property_wrapper\n",
      "    value = obj.__dict__[self.func.__name__] = self.func(obj)\n",
      "  File \"C:\\Users\\jbousqui\\Local_GIS\\Python\\Miniforge3\\envs\\jupyter-harmonize\\lib\\site-packages\\stack_data\\core.py\", line 734, in lines\n",
      "    pieces = self.included_pieces\n",
      "  File \"C:\\Users\\jbousqui\\Local_GIS\\Python\\Miniforge3\\envs\\jupyter-harmonize\\lib\\site-packages\\stack_data\\utils.py\", line 144, in cached_property_wrapper\n",
      "    value = obj.__dict__[self.func.__name__] = self.func(obj)\n",
      "  File \"C:\\Users\\jbousqui\\Local_GIS\\Python\\Miniforge3\\envs\\jupyter-harmonize\\lib\\site-packages\\stack_data\\core.py\", line 681, in included_pieces\n",
      "    pos = scope_pieces.index(self.executing_piece)\n",
      "  File \"C:\\Users\\jbousqui\\Local_GIS\\Python\\Miniforge3\\envs\\jupyter-harmonize\\lib\\site-packages\\stack_data\\utils.py\", line 144, in cached_property_wrapper\n",
      "    value = obj.__dict__[self.func.__name__] = self.func(obj)\n",
      "  File \"C:\\Users\\jbousqui\\Local_GIS\\Python\\Miniforge3\\envs\\jupyter-harmonize\\lib\\site-packages\\stack_data\\core.py\", line 660, in executing_piece\n",
      "    return only(\n",
      "  File \"C:\\Users\\jbousqui\\Local_GIS\\Python\\Miniforge3\\envs\\jupyter-harmonize\\lib\\site-packages\\executing\\executing.py\", line 190, in only\n",
      "    raise NotOneValueFound('Expected one value, found 0')\n",
      "executing.executing.NotOneValueFound: Expected one value, found 0\n"
     ]
    }
   ],
   "source": [
    "df_harmonized = harmonize.harmonize_all(gdf, errors='ignore')\n",
    "df_harmonized"
   ]
  },
  {
   "cell_type": "markdown",
   "metadata": {},
   "source": [
    "### Work through select estuary"
   ]
  },
  {
   "cell_type": "code",
   "execution_count": null,
   "metadata": {},
   "outputs": [],
   "source": [
    "aoi_gdf_all = wrangle.as_gdf(aoi_url)\n",
    "aoi_gdf_all"
   ]
  },
  {
   "cell_type": "markdown",
   "metadata": {},
   "source": [
    "Choose an index for the estuary to retrieve"
   ]
  },
  {
   "cell_type": "code",
   "execution_count": 10,
   "metadata": {},
   "outputs": [],
   "source": [
    "i = 25"
   ]
  },
  {
   "cell_type": "code",
   "execution_count": 11,
   "metadata": {},
   "outputs": [
    {
     "name": "stdout",
     "output_type": "stream",
     "text": [
      "Estuary Name: \"Galveston Bay\" -> \"Galveston_Bay\"\n"
     ]
    }
   ],
   "source": [
    "# Print reformated estuary name\n",
    "estuary_name = aoi_gdf_all.iloc[i]['EDACDA_NM']\n",
    "out_est_name = str(estuary_name).replace(\" \", \"_\")\n",
    "out_est_name = out_est_name.replace(\".\", \"\")\n",
    "out_est_name = out_est_name.replace(\"(\", \"\")\n",
    "out_est_name = out_est_name.replace(\")\", \"\")\n",
    "print('Estuary Name: \"{}\" -> \"{}\"'.format(estuary_name, out_est_name))"
   ]
  },
  {
   "cell_type": "code",
   "execution_count": 12,
   "metadata": {},
   "outputs": [],
   "source": [
    "# Get polygon from polygons\n",
    "aoi_gdf = aoi_gdf_all.iloc[i:i+1]"
   ]
  },
  {
   "cell_type": "code",
   "execution_count": 13,
   "metadata": {},
   "outputs": [
    {
     "data": {
      "text/plain": [
       "<Axes: >"
      ]
     },
     "execution_count": 13,
     "metadata": {},
     "output_type": "execute_result"
    },
    {
     "data": {
      "image/png": "[encoded data removed]",
      "text/plain": [
       "<Figure size 640x480 with 1 Axes>"
      ]
     },
     "metadata": {},
     "output_type": "display_data"
    }
   ],
   "source": [
    "# Map selection\n",
    "aoi_gdf.plot()"
   ]
  },
  {
   "cell_type": "markdown",
   "metadata": {},
   "source": [
    "#### Build Query"
   ]
  },
  {
   "cell_type": "code",
   "execution_count": 16,
   "metadata": {},
   "outputs": [],
   "source": [
    "# Each estuary may be multi-polygon, so the query will be built around the full extent instead of one row\n",
    "bBox = wrangle.get_bounding_box(aoi_gdf)"
   ]
  },
  {
   "cell_type": "code",
   "execution_count": 17,
   "metadata": {},
   "outputs": [],
   "source": [
    "# Build query\n",
    "query = {'characteristicName': ['Phosphorus',\n",
    "                                'Temperature, water',\n",
    "                                'Depth, Secchi disk depth',\n",
    "                                'Dissolved oxygen (DO)',\n",
    "                                'Salinity',\n",
    "                                'pH',\n",
    "                                'Nitrogen',\n",
    "                                'Conductivity',\n",
    "                                'Organic carbon',\n",
    "                                'Chlorophyll a',\n",
    "                                'Turbidity',\n",
    "                                'Sediment',\n",
    "                                'Fecal Coliform',\n",
    "                                'Escherichia coli']}\n",
    "query['bBox'] = bBox"
   ]
  },
  {
   "cell_type": "markdown",
   "metadata": {},
   "source": [
    "#### Retrieve Data"
   ]
  },
  {
   "cell_type": "code",
   "execution_count": 18,
   "metadata": {},
   "outputs": [
    {
     "name": "stderr",
     "output_type": "stream",
     "text": [
      "C:\\Users\\jbousqui\\Local_GIS\\Python\\Miniforge3\\envs\\jupyter-harmonize\\lib\\site-packages\\dataretrieval\\wqp.py:83: DtypeWarning: Columns (4,5,9,10,15,17,19,22,31,33,34,36,38,61,62,63,70,71) have mixed types. Specify dtype option on import or set low_memory=False.\n",
      "  df = pd.read_csv(StringIO(response.text), delimiter=',')\n"
     ]
    },
    {
     "data": {
      "text/html": [
       "<div>\n",
       "<style scoped>\n",
       "    .dataframe tbody tr th:only-of-type {\n",
       "        vertical-align: middle;\n",
       "    }\n",
       "\n",
       "    .dataframe tbody tr th {\n",
       "        vertical-align: top;\n",
       "    }\n",
       "\n",
       "    .dataframe thead th {\n",
       "        text-align: right;\n",
       "    }\n",
       "</style>\n",
       "<table border=\"1\" class=\"dataframe\">\n",
       "  <thead>\n",
       "    <tr style=\"text-align: right;\">\n",
       "      <th></th>\n",
       "      <th>OrganizationIdentifier</th>\n",
       "      <th>OrganizationFormalName</th>\n",
       "      <th>ActivityIdentifier</th>\n",
       "      <th>ActivityStartDate</th>\n",
       "      <th>ActivityStartTime/Time</th>\n",
       "      <th>ActivityStartTime/TimeZoneCode</th>\n",
       "      <th>MonitoringLocationIdentifier</th>\n",
       "      <th>ResultIdentifier</th>\n",
       "      <th>DataLoggerLine</th>\n",
       "      <th>ResultDetectionConditionText</th>\n",
       "      <th>...</th>\n",
       "      <th>AnalysisEndTime/TimeZoneCode</th>\n",
       "      <th>ResultLaboratoryCommentCode</th>\n",
       "      <th>ResultLaboratoryCommentText</th>\n",
       "      <th>ResultDetectionQuantitationLimitUrl</th>\n",
       "      <th>LaboratoryAccreditationIndicator</th>\n",
       "      <th>LaboratoryAccreditationAuthorityName</th>\n",
       "      <th>TaxonomistAccreditationIndicator</th>\n",
       "      <th>TaxonomistAccreditationAuthorityName</th>\n",
       "      <th>LabSamplePreparationUrl</th>\n",
       "      <th>ProviderName</th>\n",
       "    </tr>\n",
       "  </thead>\n",
       "  <tbody>\n",
       "    <tr>\n",
       "      <th>0</th>\n",
       "      <td>TCEQMAIN</td>\n",
       "      <td>Texas Commission on Environmental Quality</td>\n",
       "      <td>TCEQMAIN-13702013</td>\n",
       "      <td>2013-04-29</td>\n",
       "      <td>NaN</td>\n",
       "      <td>NaN</td>\n",
       "      <td>TCEQMAIN-15224</td>\n",
       "      <td>STORET-422578803</td>\n",
       "      <td>NaN</td>\n",
       "      <td>NaN</td>\n",
       "      <td>...</td>\n",
       "      <td>NaN</td>\n",
       "      <td>NaN</td>\n",
       "      <td>NaN</td>\n",
       "      <td>NaN</td>\n",
       "      <td>NaN</td>\n",
       "      <td>NaN</td>\n",
       "      <td>NaN</td>\n",
       "      <td>NaN</td>\n",
       "      <td>NaN</td>\n",
       "      <td>STORET</td>\n",
       "    </tr>\n",
       "    <tr>\n",
       "      <th>1</th>\n",
       "      <td>TCEQMAIN</td>\n",
       "      <td>Texas Commission on Environmental Quality</td>\n",
       "      <td>TCEQMAIN-13947279</td>\n",
       "      <td>2013-07-11</td>\n",
       "      <td>NaN</td>\n",
       "      <td>NaN</td>\n",
       "      <td>TCEQMAIN-11446</td>\n",
       "      <td>STORET-422881708</td>\n",
       "      <td>NaN</td>\n",
       "      <td>NaN</td>\n",
       "      <td>...</td>\n",
       "      <td>NaN</td>\n",
       "      <td>NaN</td>\n",
       "      <td>NaN</td>\n",
       "      <td>NaN</td>\n",
       "      <td>NaN</td>\n",
       "      <td>NaN</td>\n",
       "      <td>NaN</td>\n",
       "      <td>NaN</td>\n",
       "      <td>NaN</td>\n",
       "      <td>STORET</td>\n",
       "    </tr>\n",
       "    <tr>\n",
       "      <th>2</th>\n",
       "      <td>TCEQMAIN</td>\n",
       "      <td>Texas Commission on Environmental Quality</td>\n",
       "      <td>TCEQMAIN-14329114</td>\n",
       "      <td>2013-10-08</td>\n",
       "      <td>NaN</td>\n",
       "      <td>NaN</td>\n",
       "      <td>TCEQMAIN-15906</td>\n",
       "      <td>STORET-422797456</td>\n",
       "      <td>NaN</td>\n",
       "      <td>NaN</td>\n",
       "      <td>...</td>\n",
       "      <td>NaN</td>\n",
       "      <td>NaN</td>\n",
       "      <td>NaN</td>\n",
       "      <td>NaN</td>\n",
       "      <td>NaN</td>\n",
       "      <td>NaN</td>\n",
       "      <td>NaN</td>\n",
       "      <td>NaN</td>\n",
       "      <td>NaN</td>\n",
       "      <td>STORET</td>\n",
       "    </tr>\n",
       "    <tr>\n",
       "      <th>3</th>\n",
       "      <td>TCEQMAIN</td>\n",
       "      <td>Texas Commission on Environmental Quality</td>\n",
       "      <td>TCEQMAIN-13899297</td>\n",
       "      <td>2013-08-01</td>\n",
       "      <td>NaN</td>\n",
       "      <td>NaN</td>\n",
       "      <td>TCEQMAIN-11287</td>\n",
       "      <td>STORET-422829817</td>\n",
       "      <td>NaN</td>\n",
       "      <td>NaN</td>\n",
       "      <td>...</td>\n",
       "      <td>NaN</td>\n",
       "      <td>NaN</td>\n",
       "      <td>NaN</td>\n",
       "      <td>NaN</td>\n",
       "      <td>NaN</td>\n",
       "      <td>NaN</td>\n",
       "      <td>NaN</td>\n",
       "      <td>NaN</td>\n",
       "      <td>NaN</td>\n",
       "      <td>STORET</td>\n",
       "    </tr>\n",
       "    <tr>\n",
       "      <th>4</th>\n",
       "      <td>TCEQMAIN</td>\n",
       "      <td>Texas Commission on Environmental Quality</td>\n",
       "      <td>TCEQMAIN-13702703</td>\n",
       "      <td>2013-05-14</td>\n",
       "      <td>NaN</td>\n",
       "      <td>NaN</td>\n",
       "      <td>TCEQMAIN-15216</td>\n",
       "      <td>STORET-422577293</td>\n",
       "      <td>NaN</td>\n",
       "      <td>NaN</td>\n",
       "      <td>...</td>\n",
       "      <td>NaN</td>\n",
       "      <td>NaN</td>\n",
       "      <td>NaN</td>\n",
       "      <td>NaN</td>\n",
       "      <td>NaN</td>\n",
       "      <td>NaN</td>\n",
       "      <td>NaN</td>\n",
       "      <td>NaN</td>\n",
       "      <td>NaN</td>\n",
       "      <td>STORET</td>\n",
       "    </tr>\n",
       "    <tr>\n",
       "      <th>...</th>\n",
       "      <td>...</td>\n",
       "      <td>...</td>\n",
       "      <td>...</td>\n",
       "      <td>...</td>\n",
       "      <td>...</td>\n",
       "      <td>...</td>\n",
       "      <td>...</td>\n",
       "      <td>...</td>\n",
       "      <td>...</td>\n",
       "      <td>...</td>\n",
       "      <td>...</td>\n",
       "      <td>...</td>\n",
       "      <td>...</td>\n",
       "      <td>...</td>\n",
       "      <td>...</td>\n",
       "      <td>...</td>\n",
       "      <td>...</td>\n",
       "      <td>...</td>\n",
       "      <td>...</td>\n",
       "      <td>...</td>\n",
       "      <td>...</td>\n",
       "    </tr>\n",
       "    <tr>\n",
       "      <th>247935</th>\n",
       "      <td>USGS-TX</td>\n",
       "      <td>USGS Texas Water Science Center</td>\n",
       "      <td>nwistx.01.02302746</td>\n",
       "      <td>2023-07-18</td>\n",
       "      <td>11:45:00</td>\n",
       "      <td>CDT</td>\n",
       "      <td>USGS-08042554</td>\n",
       "      <td>NWIS-125740260</td>\n",
       "      <td>NaN</td>\n",
       "      <td>NaN</td>\n",
       "      <td>...</td>\n",
       "      <td>NaN</td>\n",
       "      <td>NaN</td>\n",
       "      <td>NaN</td>\n",
       "      <td>NaN</td>\n",
       "      <td>NaN</td>\n",
       "      <td>NaN</td>\n",
       "      <td>NaN</td>\n",
       "      <td>NaN</td>\n",
       "      <td>NaN</td>\n",
       "      <td>NWIS</td>\n",
       "    </tr>\n",
       "    <tr>\n",
       "      <th>247936</th>\n",
       "      <td>USGS-TX</td>\n",
       "      <td>USGS Texas Water Science Center</td>\n",
       "      <td>nwistx.01.02302749</td>\n",
       "      <td>2023-07-18</td>\n",
       "      <td>12:45:00</td>\n",
       "      <td>CDT</td>\n",
       "      <td>USGS-08042546</td>\n",
       "      <td>NWIS-125740338</td>\n",
       "      <td>NaN</td>\n",
       "      <td>NaN</td>\n",
       "      <td>...</td>\n",
       "      <td>NaN</td>\n",
       "      <td>NaN</td>\n",
       "      <td>NaN</td>\n",
       "      <td>NaN</td>\n",
       "      <td>NaN</td>\n",
       "      <td>NaN</td>\n",
       "      <td>NaN</td>\n",
       "      <td>NaN</td>\n",
       "      <td>NaN</td>\n",
       "      <td>NWIS</td>\n",
       "    </tr>\n",
       "    <tr>\n",
       "      <th>247937</th>\n",
       "      <td>USGS-TX</td>\n",
       "      <td>USGS Texas Water Science Center</td>\n",
       "      <td>nwistx.01.02302749</td>\n",
       "      <td>2023-07-18</td>\n",
       "      <td>12:45:00</td>\n",
       "      <td>CDT</td>\n",
       "      <td>USGS-08042546</td>\n",
       "      <td>NWIS-125740346</td>\n",
       "      <td>NaN</td>\n",
       "      <td>NaN</td>\n",
       "      <td>...</td>\n",
       "      <td>NaN</td>\n",
       "      <td>NaN</td>\n",
       "      <td>NaN</td>\n",
       "      <td>NaN</td>\n",
       "      <td>NaN</td>\n",
       "      <td>NaN</td>\n",
       "      <td>NaN</td>\n",
       "      <td>NaN</td>\n",
       "      <td>NaN</td>\n",
       "      <td>NWIS</td>\n",
       "    </tr>\n",
       "    <tr>\n",
       "      <th>247938</th>\n",
       "      <td>USGS-TX</td>\n",
       "      <td>USGS Texas Water Science Center</td>\n",
       "      <td>nwistx.01.02302749</td>\n",
       "      <td>2023-07-18</td>\n",
       "      <td>12:45:00</td>\n",
       "      <td>CDT</td>\n",
       "      <td>USGS-08042546</td>\n",
       "      <td>NWIS-125740348</td>\n",
       "      <td>NaN</td>\n",
       "      <td>NaN</td>\n",
       "      <td>...</td>\n",
       "      <td>NaN</td>\n",
       "      <td>NaN</td>\n",
       "      <td>NaN</td>\n",
       "      <td>NaN</td>\n",
       "      <td>NaN</td>\n",
       "      <td>NaN</td>\n",
       "      <td>NaN</td>\n",
       "      <td>NaN</td>\n",
       "      <td>NaN</td>\n",
       "      <td>NWIS</td>\n",
       "    </tr>\n",
       "    <tr>\n",
       "      <th>247939</th>\n",
       "      <td>USGS-TX</td>\n",
       "      <td>USGS Texas Water Science Center</td>\n",
       "      <td>nwistx.01.02302749</td>\n",
       "      <td>2023-07-18</td>\n",
       "      <td>12:45:00</td>\n",
       "      <td>CDT</td>\n",
       "      <td>USGS-08042546</td>\n",
       "      <td>NWIS-125740350</td>\n",
       "      <td>NaN</td>\n",
       "      <td>NaN</td>\n",
       "      <td>...</td>\n",
       "      <td>NaN</td>\n",
       "      <td>NaN</td>\n",
       "      <td>NaN</td>\n",
       "      <td>NaN</td>\n",
       "      <td>NaN</td>\n",
       "      <td>NaN</td>\n",
       "      <td>NaN</td>\n",
       "      <td>NaN</td>\n",
       "      <td>NaN</td>\n",
       "      <td>NWIS</td>\n",
       "    </tr>\n",
       "  </tbody>\n",
       "</table>\n",
       "<p>247940 rows × 78 columns</p>\n",
       "</div>"
      ],
      "text/plain": [
       "       OrganizationIdentifier                     OrganizationFormalName  \\\n",
       "0                    TCEQMAIN  Texas Commission on Environmental Quality   \n",
       "1                    TCEQMAIN  Texas Commission on Environmental Quality   \n",
       "2                    TCEQMAIN  Texas Commission on Environmental Quality   \n",
       "3                    TCEQMAIN  Texas Commission on Environmental Quality   \n",
       "4                    TCEQMAIN  Texas Commission on Environmental Quality   \n",
       "...                       ...                                        ...   \n",
       "247935                USGS-TX            USGS Texas Water Science Center   \n",
       "247936                USGS-TX            USGS Texas Water Science Center   \n",
       "247937                USGS-TX            USGS Texas Water Science Center   \n",
       "247938                USGS-TX            USGS Texas Water Science Center   \n",
       "247939                USGS-TX            USGS Texas Water Science Center   \n",
       "\n",
       "        ActivityIdentifier ActivityStartDate ActivityStartTime/Time  \\\n",
       "0        TCEQMAIN-13702013        2013-04-29                    NaN   \n",
       "1        TCEQMAIN-13947279        2013-07-11                    NaN   \n",
       "2        TCEQMAIN-14329114        2013-10-08                    NaN   \n",
       "3        TCEQMAIN-13899297        2013-08-01                    NaN   \n",
       "4        TCEQMAIN-13702703        2013-05-14                    NaN   \n",
       "...                    ...               ...                    ...   \n",
       "247935  nwistx.01.02302746        2023-07-18               11:45:00   \n",
       "247936  nwistx.01.02302749        2023-07-18               12:45:00   \n",
       "247937  nwistx.01.02302749        2023-07-18               12:45:00   \n",
       "247938  nwistx.01.02302749        2023-07-18               12:45:00   \n",
       "247939  nwistx.01.02302749        2023-07-18               12:45:00   \n",
       "\n",
       "       ActivityStartTime/TimeZoneCode MonitoringLocationIdentifier  \\\n",
       "0                                 NaN               TCEQMAIN-15224   \n",
       "1                                 NaN               TCEQMAIN-11446   \n",
       "2                                 NaN               TCEQMAIN-15906   \n",
       "3                                 NaN               TCEQMAIN-11287   \n",
       "4                                 NaN               TCEQMAIN-15216   \n",
       "...                               ...                          ...   \n",
       "247935                            CDT                USGS-08042554   \n",
       "247936                            CDT                USGS-08042546   \n",
       "247937                            CDT                USGS-08042546   \n",
       "247938                            CDT                USGS-08042546   \n",
       "247939                            CDT                USGS-08042546   \n",
       "\n",
       "        ResultIdentifier  DataLoggerLine ResultDetectionConditionText  ...  \\\n",
       "0       STORET-422578803             NaN                          NaN  ...   \n",
       "1       STORET-422881708             NaN                          NaN  ...   \n",
       "2       STORET-422797456             NaN                          NaN  ...   \n",
       "3       STORET-422829817             NaN                          NaN  ...   \n",
       "4       STORET-422577293             NaN                          NaN  ...   \n",
       "...                  ...             ...                          ...  ...   \n",
       "247935    NWIS-125740260             NaN                          NaN  ...   \n",
       "247936    NWIS-125740338             NaN                          NaN  ...   \n",
       "247937    NWIS-125740346             NaN                          NaN  ...   \n",
       "247938    NWIS-125740348             NaN                          NaN  ...   \n",
       "247939    NWIS-125740350             NaN                          NaN  ...   \n",
       "\n",
       "       AnalysisEndTime/TimeZoneCode ResultLaboratoryCommentCode  \\\n",
       "0                               NaN                         NaN   \n",
       "1                               NaN                         NaN   \n",
       "2                               NaN                         NaN   \n",
       "3                               NaN                         NaN   \n",
       "4                               NaN                         NaN   \n",
       "...                             ...                         ...   \n",
       "247935                          NaN                         NaN   \n",
       "247936                          NaN                         NaN   \n",
       "247937                          NaN                         NaN   \n",
       "247938                          NaN                         NaN   \n",
       "247939                          NaN                         NaN   \n",
       "\n",
       "       ResultLaboratoryCommentText  ResultDetectionQuantitationLimitUrl  \\\n",
       "0                              NaN                                  NaN   \n",
       "1                              NaN                                  NaN   \n",
       "2                              NaN                                  NaN   \n",
       "3                              NaN                                  NaN   \n",
       "4                              NaN                                  NaN   \n",
       "...                            ...                                  ...   \n",
       "247935                         NaN                                  NaN   \n",
       "247936                         NaN                                  NaN   \n",
       "247937                         NaN                                  NaN   \n",
       "247938                         NaN                                  NaN   \n",
       "247939                         NaN                                  NaN   \n",
       "\n",
       "       LaboratoryAccreditationIndicator LaboratoryAccreditationAuthorityName  \\\n",
       "0                                   NaN                                  NaN   \n",
       "1                                   NaN                                  NaN   \n",
       "2                                   NaN                                  NaN   \n",
       "3                                   NaN                                  NaN   \n",
       "4                                   NaN                                  NaN   \n",
       "...                                 ...                                  ...   \n",
       "247935                              NaN                                  NaN   \n",
       "247936                              NaN                                  NaN   \n",
       "247937                              NaN                                  NaN   \n",
       "247938                              NaN                                  NaN   \n",
       "247939                              NaN                                  NaN   \n",
       "\n",
       "       TaxonomistAccreditationIndicator TaxonomistAccreditationAuthorityName  \\\n",
       "0                                   NaN                                  NaN   \n",
       "1                                   NaN                                  NaN   \n",
       "2                                   NaN                                  NaN   \n",
       "3                                   NaN                                  NaN   \n",
       "4                                   NaN                                  NaN   \n",
       "...                                 ...                                  ...   \n",
       "247935                              NaN                                  NaN   \n",
       "247936                              NaN                                  NaN   \n",
       "247937                              NaN                                  NaN   \n",
       "247938                              NaN                                  NaN   \n",
       "247939                              NaN                                  NaN   \n",
       "\n",
       "       LabSamplePreparationUrl ProviderName  \n",
       "0                          NaN       STORET  \n",
       "1                          NaN       STORET  \n",
       "2                          NaN       STORET  \n",
       "3                          NaN       STORET  \n",
       "4                          NaN       STORET  \n",
       "...                        ...          ...  \n",
       "247935                     NaN         NWIS  \n",
       "247936                     NaN         NWIS  \n",
       "247937                     NaN         NWIS  \n",
       "247938                     NaN         NWIS  \n",
       "247939                     NaN         NWIS  \n",
       "\n",
       "[247940 rows x 78 columns]"
      ]
     },
     "execution_count": 18,
     "metadata": {},
     "output_type": "execute_result"
    }
   ],
   "source": [
    "query['dataProfile'] = 'narrowResult'\n",
    "res_narrow, md_narrow = wqp.get_results(**query)\n",
    "\n",
    "# dataframe of downloaded results\n",
    "res_narrow"
   ]
  },
  {
   "cell_type": "code",
   "execution_count": 19,
   "metadata": {},
   "outputs": [
    {
     "data": {
      "text/plain": [
       "<Axes: >"
      ]
     },
     "execution_count": 19,
     "metadata": {},
     "output_type": "execute_result"
    },
    {
     "data": {
      "image/png": "[encoded data removed]",
      "text/plain": [
       "<Figure size 640x480 with 1 Axes>"
      ]
     },
     "metadata": {},
     "output_type": "display_data"
    }
   ],
   "source": [
    "# Get harmonized stations clipped to the Area of Interest\n",
    "stations_gdf, stations, site_md = location.get_harmonized_stations(query, aoi=aoi_gdf)\n",
    "stations_gdf.plot()"
   ]
  },
  {
   "cell_type": "markdown",
   "metadata": {},
   "source": [
    "#### Harmonize characteristic data (all at once)"
   ]
  },
  {
   "cell_type": "markdown",
   "metadata": {},
   "source": [
    "The harmonize_all() function identifies the characteristics present and uses preset defaults to harmonize each. This function does not has as much flexibility e.g., to keep intermediate columns, produce reports, or convert to non-default units."
   ]
  },
  {
   "cell_type": "code",
   "execution_count": null,
   "metadata": {},
   "outputs": [],
   "source": [
    "# Harmonize all results\n",
    "df_harmonized = harmonize.harmonize_all(res_narrow, errors='ignore')\n",
    "df_harmonized"
   ]
  },
  {
   "cell_type": "code",
   "execution_count": null,
   "metadata": {},
   "outputs": [],
   "source": [
    "# Clean up other columns of data\n",
    "df_cleaned = clean.datetime(df_harmonized)  # datetime\n",
    "df_cleaned = clean.harmonize_depth(df_cleaned)  # Sample depth\n",
    "df_cleaned"
   ]
  },
  {
   "cell_type": "markdown",
   "metadata": {},
   "source": [
    "#### Map results"
   ]
  },
  {
   "cell_type": "code",
   "execution_count": null,
   "metadata": {},
   "outputs": [],
   "source": [
    "# Map number of usable results at each station\n",
    "gdf_count = visualize.map_counts(df_cleaned, stations_gdf)\n",
    "legend_kwds = {\"fmt\": \"{:.0f}\", 'bbox_to_anchor':(1, 0.75)}\n",
    "gdf_count.plot(column='cnt', cmap='Blues', legend=True, scheme='quantiles', legend_kwds=legend_kwds)"
   ]
  },
  {
   "cell_type": "code",
   "execution_count": null,
   "metadata": {},
   "outputs": [],
   "source": [
    "# Map average temperature results at each station\n",
    "gdf_temperature = visualize.map_measure(df_cleaned, stations_gdf, 'Temperature')\n",
    "gdf_temperature.plot(column='mean', cmap='OrRd', legend=True)"
   ]
  },
  {
   "cell_type": "markdown",
   "metadata": {},
   "source": [
    "#### Look through results one parameter at a time"
   ]
  },
  {
   "cell_type": "code",
   "execution_count": null,
   "metadata": {},
   "outputs": [],
   "source": [
    "# Set standard columns to look through results\n",
    "cols = ['ResultMeasureValue', 'ResultMeasure/MeasureUnitCode', 'QA_flag']"
   ]
  },
  {
   "cell_type": "markdown",
   "metadata": {},
   "source": [
    "Note: if there were no results for a given characteristic a result column will not be generated for that characteristic and there will be a keyError when trying to look at results, e.g., 'KeyError: \"['Conductivity'] not in index\"' if there are no conductivity results"
   ]
  },
  {
   "cell_type": "code",
   "execution_count": null,
   "metadata": {},
   "outputs": [],
   "source": [
    "# Secchi\n",
    "df.loc[df['CharacteristicName']=='Depth, Secchi disk depth', cols + ['Secchi']]"
   ]
  },
  {
   "cell_type": "code",
   "execution_count": null,
   "metadata": {},
   "outputs": [],
   "source": [
    "# Temperature\n",
    "df.loc[df['CharacteristicName']=='Temperature, water', cols + ['Temperature']]"
   ]
  },
  {
   "cell_type": "code",
   "execution_count": null,
   "metadata": {},
   "outputs": [],
   "source": [
    "# Dissolved Oxygen\n",
    "df.loc[df['CharacteristicName']=='Dissolved oxygen (DO)', cols + ['DO']]"
   ]
  },
  {
   "cell_type": "code",
   "execution_count": null,
   "metadata": {},
   "outputs": [],
   "source": [
    "# pH\n",
    "df.loc[df['CharacteristicName']=='pH', cols + ['pH']]"
   ]
  },
  {
   "cell_type": "code",
   "execution_count": null,
   "metadata": {},
   "outputs": [],
   "source": [
    "# Salinity\n",
    "df.loc[df['CharacteristicName']=='Salinity', cols + ['Salinity']]"
   ]
  },
  {
   "cell_type": "code",
   "execution_count": null,
   "metadata": {},
   "outputs": [],
   "source": [
    "# Nitrogen\n",
    "df.loc[df['CharacteristicName']=='Nitrogen', cols + ['Nitrogen']]"
   ]
  },
  {
   "cell_type": "code",
   "execution_count": null,
   "metadata": {},
   "outputs": [],
   "source": [
    "# Conductivity\n",
    "if 'Conductivity' in df.columns:\n",
    "    df.loc[df['CharacteristicName']=='Conductivity', cols + ['Conductivity']]"
   ]
  },
  {
   "cell_type": "code",
   "execution_count": null,
   "metadata": {},
   "outputs": [],
   "source": [
    "# Chlorophyll A\n",
    "df.loc[df['CharacteristicName']=='Chlorophyll a', cols + ['Chlorophyll']]"
   ]
  },
  {
   "cell_type": "code",
   "execution_count": null,
   "metadata": {},
   "outputs": [],
   "source": [
    "# Carbon\n",
    "df.loc[df['CharacteristicName']=='Organic carbon', cols + ['Carbon']]"
   ]
  },
  {
   "cell_type": "code",
   "execution_count": null,
   "metadata": {},
   "outputs": [],
   "source": [
    "# Turbidity\n",
    "df.loc[df['CharacteristicName']=='Turbidity', cols + ['Turbidity']]"
   ]
  },
  {
   "cell_type": "code",
   "execution_count": null,
   "metadata": {},
   "outputs": [],
   "source": [
    "# Sediment\n",
    "df.loc[df['CharacteristicName']=='Sediment', cols + ['Sediment']]"
   ]
  },
  {
   "cell_type": "code",
   "execution_count": null,
   "metadata": {
    "scrolled": true
   },
   "outputs": [],
   "source": [
    "# Phosphorus\n",
    "df.loc[df['TDP_Phosphorus'].notna(), ['ResultMeasureValue', 'ResultMeasure/MeasureUnitCode', 'QA_flag', 'TDP_Phosphorus']]"
   ]
  },
  {
   "cell_type": "code",
   "execution_count": null,
   "metadata": {},
   "outputs": [],
   "source": [
    "df.loc[df['TP_Phosphorus'].notna(), ['ResultMeasureValue', 'ResultMeasure/MeasureUnitCode', 'QA_flag', 'TP_Phosphorus']]"
   ]
  },
  {
   "cell_type": "markdown",
   "metadata": {},
   "source": [
    "### Characteristic to Column (long to wide format)"
   ]
  },
  {
   "cell_type": "markdown",
   "metadata": {},
   "source": [
    "Note: each parameter should be compared against acceptance criteria before these steps as duplicates and bad data can be problematic"
   ]
  },
  {
   "cell_type": "code",
   "execution_count": null,
   "metadata": {},
   "outputs": [],
   "source": [
    "# Split single QA column into multiple by characteristic (rename the result to preserve these QA_flags)\n",
    "df2 = wrangle.split_col(df)\n",
    "df2"
   ]
  },
  {
   "cell_type": "code",
   "execution_count": null,
   "metadata": {},
   "outputs": [],
   "source": [
    "# This expands the single col (QA_flag) out to a number of new columns based on the unique characteristicNames and speciation\n",
    "print('{} new columns'.format(len(df2.columns) - len(df.columns)))"
   ]
  },
  {
   "cell_type": "code",
   "execution_count": null,
   "metadata": {},
   "outputs": [],
   "source": [
    "# Note: there are fewer rows because NAN results are also dropped in this step\n",
    "print('{} fewer rows'.format(len(df)-len(df2)))"
   ]
  },
  {
   "cell_type": "code",
   "execution_count": null,
   "metadata": {},
   "outputs": [],
   "source": [
    "#Examine Carbon flags from earlier in notebook (note these are empty now because NAN is dropped)\n",
    "cols = ['ResultMeasureValue', 'ResultMeasure/MeasureUnitCode', 'Carbon', 'QA_Carbon']\n",
    "df2.loc[df2['QA_Carbon'].notna(), cols]"
   ]
  },
  {
   "cell_type": "markdown",
   "metadata": {},
   "source": [
    "Next the table is divided into the columns of interest (main_df) and characteristic specific metadata (chars_df)"
   ]
  },
  {
   "cell_type": "code",
   "execution_count": null,
   "metadata": {},
   "outputs": [],
   "source": [
    "# split table into main and characteristics tables\n",
    "main_df, chars_df = wrangle.split_table(df2)"
   ]
  },
  {
   "cell_type": "code",
   "execution_count": null,
   "metadata": {},
   "outputs": [],
   "source": [
    "# Columns still in main table\n",
    "main_df.columns"
   ]
  },
  {
   "cell_type": "code",
   "execution_count": null,
   "metadata": {},
   "outputs": [],
   "source": [
    "# look at main table results (first 5)\n",
    "main_df.head()"
   ]
  },
  {
   "cell_type": "code",
   "execution_count": null,
   "metadata": {},
   "outputs": [],
   "source": [
    "# Empty columns that could be dropped (Mostly QA columns)\n",
    "cols = list(main_df.columns)\n",
    "x = main_df.dropna(axis=1, how='all')\n",
    "[col for col in cols if col not in x.columns]"
   ]
  },
  {
   "cell_type": "code",
   "execution_count": null,
   "metadata": {},
   "outputs": [],
   "source": [
    "# Map average results at each station\n",
    "gdf_avg = visualize.map_measure(main_df, stations_gdf, 'Temperature')\n",
    "gdf_avg.plot(column='mean', cmap='OrRd', legend=True)"
   ]
  }
 ],
 "metadata": {
  "esriNotebookRuntime": {
   "notebookRuntimeName": "ArcGIS Notebook Python 3 Standard",
   "notebookRuntimeVersion": "5.0"
  },
  "kernelspec": {
   "display_name": "Python 3 (ipykernel)",
   "language": "python",
   "name": "python3"
  },
  "language_info": {
   "codemirror_mode": {
    "name": "ipython",
    "version": 3
   },
   "file_extension": ".py",
   "mimetype": "text/x-python",
   "name": "python",
   "nbconvert_exporter": "python",
   "pygments_lexer": "ipython3",
   "version": "3.8.17"
  }
 },
 "nbformat": 4,
 "nbformat_minor": 4
}
